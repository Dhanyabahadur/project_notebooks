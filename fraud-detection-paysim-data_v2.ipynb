{
 "cells": [
  {
   "cell_type": "code",
   "execution_count": 1,
   "metadata": {
    "_cell_guid": "b1076dfc-b9ad-4769-8c92-a6c4dae69d19",
    "_uuid": "8f2839f25d086af736a60e9eeb907d3b93b6e0e5",
    "execution": {
     "iopub.execute_input": "2022-09-22T13:04:13.799066Z",
     "iopub.status.busy": "2022-09-22T13:04:13.798505Z",
     "iopub.status.idle": "2022-09-22T13:04:13.833746Z",
     "shell.execute_reply": "2022-09-22T13:04:13.832751Z",
     "shell.execute_reply.started": "2022-09-22T13:04:13.798987Z"
    }
   },
   "outputs": [
    {
     "name": "stdout",
     "output_type": "stream",
     "text": [
      "/kaggle/input/paysim1/PS_20174392719_1491204439457_log.csv\n"
     ]
    }
   ],
   "source": [
    "# This Python 3 environment comes with many helpful analytics libraries installed\n",
    "# It is defined by the kaggle/python Docker image: https://github.com/kaggle/docker-python\n",
    "# For example, here's several helpful packages to load\n",
    "\n",
    "import numpy as np # linear algebra\n",
    "import pandas as pd # data processing, CSV file I/O (e.g. pd.read_csv)\n",
    "\n",
    "# Input data files are available in the read-only \"../input/\" directory\n",
    "# For example, running this (by clicking run or pressing Shift+Enter) will list all files under the input directory\n",
    "\n",
    "import os\n",
    "for dirname, _, filenames in os.walk('/kaggle/input'):\n",
    "    for filename in filenames:\n",
    "        print(os.path.join(dirname, filename))\n",
    "\n",
    "# You can write up to 20GB to the current directory (/kaggle/working/) that gets preserved as output when you create a version using \"Save & Run All\" \n",
    "# You can also write temporary files to /kaggle/temp/, but they won't be saved outside of the current session"
   ]
  },
  {
   "cell_type": "code",
   "execution_count": 2,
   "metadata": {
    "execution": {
     "iopub.execute_input": "2022-09-22T13:04:13.836461Z",
     "iopub.status.busy": "2022-09-22T13:04:13.835503Z",
     "iopub.status.idle": "2022-09-22T13:04:15.023117Z",
     "shell.execute_reply": "2022-09-22T13:04:15.021975Z",
     "shell.execute_reply.started": "2022-09-22T13:04:13.836411Z"
    }
   },
   "outputs": [],
   "source": [
    "import pandas as pd\n",
    "pd.set_option('display.max_columns', None)\n",
    "import os\n",
    "import numpy as np\n",
    "%matplotlib inline\n",
    "import matplotlib.pyplot as plt\n",
    "import scipy.stats as stats\n",
    "import matplotlib.lines as mlines\n",
    "from mpl_toolkits.mplot3d import Axes3D\n",
    "import seaborn as sns\n",
    "from sklearn.model_selection import train_test_split, learning_curve\n",
    "from sklearn.metrics import average_precision_score\n",
    "from sklearn.pipeline import make_pipeline, Pipeline\n",
    "from sklearn.preprocessing import StandardScaler, MinMaxScaler, RobustScaler\n",
    "from sklearn.model_selection import cross_val_score, KFold, cross_val_predict\n",
    "from sklearn.model_selection import GridSearchCV, RandomizedSearchCV \n",
    "from sklearn.metrics import make_scorer\n",
    "from sklearn.metrics import mean_squared_error\n",
    "from xgboost.sklearn import XGBClassifier\n",
    "from xgboost import plot_importance, to_graphviz\n",
    "import warnings\n",
    "warnings.filterwarnings(\"ignore\", category = DeprecationWarning)"
   ]
  },
  {
   "cell_type": "markdown",
   "metadata": {},
   "source": [
    "Read the financial data"
   ]
  },
  {
   "cell_type": "code",
   "execution_count": 3,
   "metadata": {
    "execution": {
     "iopub.execute_input": "2022-09-22T13:04:15.031420Z",
     "iopub.status.busy": "2022-09-22T13:04:15.028989Z",
     "iopub.status.idle": "2022-09-22T13:04:31.818554Z",
     "shell.execute_reply": "2022-09-22T13:04:31.817436Z",
     "shell.execute_reply.started": "2022-09-22T13:04:15.031367Z"
    }
   },
   "outputs": [],
   "source": [
    "df = pd.read_csv('../input/paysim1/PS_20174392719_1491204439457_log.csv')"
   ]
  },
  {
   "cell_type": "code",
   "execution_count": 4,
   "metadata": {
    "execution": {
     "iopub.execute_input": "2022-09-22T13:04:31.826636Z",
     "iopub.status.busy": "2022-09-22T13:04:31.824294Z",
     "iopub.status.idle": "2022-09-22T13:04:31.839526Z",
     "shell.execute_reply": "2022-09-22T13:04:31.838460Z",
     "shell.execute_reply.started": "2022-09-22T13:04:31.826595Z"
    }
   },
   "outputs": [
    {
     "data": {
      "text/plain": [
       "(6362620, 11)"
      ]
     },
     "execution_count": 4,
     "metadata": {},
     "output_type": "execute_result"
    }
   ],
   "source": [
    "df.shape"
   ]
  },
  {
   "cell_type": "code",
   "execution_count": 5,
   "metadata": {
    "execution": {
     "iopub.execute_input": "2022-09-22T13:04:31.846876Z",
     "iopub.status.busy": "2022-09-22T13:04:31.844110Z",
     "iopub.status.idle": "2022-09-22T13:04:31.879195Z",
     "shell.execute_reply": "2022-09-22T13:04:31.878214Z",
     "shell.execute_reply.started": "2022-09-22T13:04:31.846837Z"
    }
   },
   "outputs": [
    {
     "data": {
      "text/html": [
       "<div>\n",
       "<style scoped>\n",
       "    .dataframe tbody tr th:only-of-type {\n",
       "        vertical-align: middle;\n",
       "    }\n",
       "\n",
       "    .dataframe tbody tr th {\n",
       "        vertical-align: top;\n",
       "    }\n",
       "\n",
       "    .dataframe thead th {\n",
       "        text-align: right;\n",
       "    }\n",
       "</style>\n",
       "<table border=\"1\" class=\"dataframe\">\n",
       "  <thead>\n",
       "    <tr style=\"text-align: right;\">\n",
       "      <th></th>\n",
       "      <th>step</th>\n",
       "      <th>type</th>\n",
       "      <th>amount</th>\n",
       "      <th>nameOrig</th>\n",
       "      <th>oldbalanceOrg</th>\n",
       "      <th>newbalanceOrig</th>\n",
       "      <th>nameDest</th>\n",
       "      <th>oldbalanceDest</th>\n",
       "      <th>newbalanceDest</th>\n",
       "      <th>isFraud</th>\n",
       "      <th>isFlaggedFraud</th>\n",
       "    </tr>\n",
       "  </thead>\n",
       "  <tbody>\n",
       "    <tr>\n",
       "      <th>0</th>\n",
       "      <td>1</td>\n",
       "      <td>PAYMENT</td>\n",
       "      <td>9839.64</td>\n",
       "      <td>C1231006815</td>\n",
       "      <td>170136.0</td>\n",
       "      <td>160296.36</td>\n",
       "      <td>M1979787155</td>\n",
       "      <td>0.0</td>\n",
       "      <td>0.0</td>\n",
       "      <td>0</td>\n",
       "      <td>0</td>\n",
       "    </tr>\n",
       "    <tr>\n",
       "      <th>1</th>\n",
       "      <td>1</td>\n",
       "      <td>PAYMENT</td>\n",
       "      <td>1864.28</td>\n",
       "      <td>C1666544295</td>\n",
       "      <td>21249.0</td>\n",
       "      <td>19384.72</td>\n",
       "      <td>M2044282225</td>\n",
       "      <td>0.0</td>\n",
       "      <td>0.0</td>\n",
       "      <td>0</td>\n",
       "      <td>0</td>\n",
       "    </tr>\n",
       "    <tr>\n",
       "      <th>2</th>\n",
       "      <td>1</td>\n",
       "      <td>TRANSFER</td>\n",
       "      <td>181.00</td>\n",
       "      <td>C1305486145</td>\n",
       "      <td>181.0</td>\n",
       "      <td>0.00</td>\n",
       "      <td>C553264065</td>\n",
       "      <td>0.0</td>\n",
       "      <td>0.0</td>\n",
       "      <td>1</td>\n",
       "      <td>0</td>\n",
       "    </tr>\n",
       "    <tr>\n",
       "      <th>3</th>\n",
       "      <td>1</td>\n",
       "      <td>CASH_OUT</td>\n",
       "      <td>181.00</td>\n",
       "      <td>C840083671</td>\n",
       "      <td>181.0</td>\n",
       "      <td>0.00</td>\n",
       "      <td>C38997010</td>\n",
       "      <td>21182.0</td>\n",
       "      <td>0.0</td>\n",
       "      <td>1</td>\n",
       "      <td>0</td>\n",
       "    </tr>\n",
       "    <tr>\n",
       "      <th>4</th>\n",
       "      <td>1</td>\n",
       "      <td>PAYMENT</td>\n",
       "      <td>11668.14</td>\n",
       "      <td>C2048537720</td>\n",
       "      <td>41554.0</td>\n",
       "      <td>29885.86</td>\n",
       "      <td>M1230701703</td>\n",
       "      <td>0.0</td>\n",
       "      <td>0.0</td>\n",
       "      <td>0</td>\n",
       "      <td>0</td>\n",
       "    </tr>\n",
       "  </tbody>\n",
       "</table>\n",
       "</div>"
      ],
      "text/plain": [
       "   step      type    amount     nameOrig  oldbalanceOrg  newbalanceOrig  \\\n",
       "0     1   PAYMENT   9839.64  C1231006815       170136.0       160296.36   \n",
       "1     1   PAYMENT   1864.28  C1666544295        21249.0        19384.72   \n",
       "2     1  TRANSFER    181.00  C1305486145          181.0            0.00   \n",
       "3     1  CASH_OUT    181.00   C840083671          181.0            0.00   \n",
       "4     1   PAYMENT  11668.14  C2048537720        41554.0        29885.86   \n",
       "\n",
       "      nameDest  oldbalanceDest  newbalanceDest  isFraud  isFlaggedFraud  \n",
       "0  M1979787155             0.0             0.0        0               0  \n",
       "1  M2044282225             0.0             0.0        0               0  \n",
       "2   C553264065             0.0             0.0        1               0  \n",
       "3    C38997010         21182.0             0.0        1               0  \n",
       "4  M1230701703             0.0             0.0        0               0  "
      ]
     },
     "execution_count": 5,
     "metadata": {},
     "output_type": "execute_result"
    }
   ],
   "source": [
    "df.head()"
   ]
  },
  {
   "cell_type": "markdown",
   "metadata": {},
   "source": [
    "**Explanation provided by dataset creators**:-\n",
    "\n",
    "This is a sample of 1 row with headers explanation:\n",
    "\n",
    "1,PAYMENT,1060.31,C429214117,1089.0,28.69,M1591654462,0.0,0.0,0,0\n",
    "\n",
    "step - maps a unit of time in the real world. In this case 1 step is 1 hour of time. Total steps 744 (30 days simulation).\n",
    "\n",
    "type - CASH-IN, CASH-OUT, DEBIT, PAYMENT and TRANSFER.\n",
    "\n",
    "amount -\n",
    "amount of the transaction in local currency.\n",
    "\n",
    "nameOrig - customer who started the transaction\n",
    "\n",
    "oldbalanceOrg - initial balance before the transaction\n",
    "\n",
    "newbalanceOrig - new balance after the transaction\n",
    "\n",
    "nameDest - customer who is the recipient of the transaction\n",
    "\n",
    "oldbalanceDest - initial balance recipient before the transaction. Note that there is not information for customers that start with M (Merchants).\n",
    "\n",
    "newbalanceDest - new balance recipient after the transaction. Note that there is not information for customers that start with M (Merchants).\n",
    "\n",
    "isFraud - This is the transactions made by the fraudulent agents inside the simulation. In this specific dataset the fraudulent behavior of the agents aims to profit by taking control or customers accounts and try to empty the funds by transferring to another account and then cashing out of the system.\n",
    "\n",
    "isFlaggedFraud - The business model aims to control massive transfers from one account to another and flags illegal attempts. An illegal attempt in this dataset is an attempt to transfer more than 200,000 in a single transaction."
   ]
  },
  {
   "cell_type": "markdown",
   "metadata": {},
   "source": [
    "Renaming the name of columns to more descriptive one. \n",
    "* old_balance_orig_cus - Balance of original account before transaction, \n",
    "* new_balance_orig_cus - Balance of original account after transaction, \n",
    "* old_balance_rec_cus - Balance of destination account before receiving the transaction, \n",
    "* new_balance_rec_cus - Balance of destination account after receiving the transaction, \n",
    "* orig_cus_name - Account holder name of original account,\n",
    "* rec_cus_name - Account holder name of destination account,\n",
    "* is_fraud - Target variable, \n",
    "* is_flagged_fraud - Whether the transaction has been flagged fraud or not based on the rule \"whether transaction amount is greater than 200,000\""
   ]
  },
  {
   "cell_type": "code",
   "execution_count": 6,
   "metadata": {
    "execution": {
     "iopub.execute_input": "2022-09-22T13:04:31.886154Z",
     "iopub.status.busy": "2022-09-22T13:04:31.883773Z",
     "iopub.status.idle": "2022-09-22T13:04:32.411700Z",
     "shell.execute_reply": "2022-09-22T13:04:32.410549Z",
     "shell.execute_reply.started": "2022-09-22T13:04:31.886113Z"
    }
   },
   "outputs": [],
   "source": [
    "df = df.rename(columns={'oldbalanceOrg': 'old_balance_orig_cus', 'newbalanceOrig': 'new_balance_orig_cus',\n",
    "                       'oldbalanceDest': 'old_balance_rec_cus', 'newbalanceDest': 'new_balance_rec_cus',\n",
    "                       'nameOrig': 'orig_cus_name', 'nameDest': 'rec_cus_name', 'isFraud': 'is_fraud',\n",
    "                       'isFlaggedFraud': 'is_flagged_fraud'})"
   ]
  },
  {
   "cell_type": "code",
   "execution_count": 7,
   "metadata": {
    "execution": {
     "iopub.execute_input": "2022-09-22T13:04:32.413467Z",
     "iopub.status.busy": "2022-09-22T13:04:32.413040Z",
     "iopub.status.idle": "2022-09-22T13:04:32.438047Z",
     "shell.execute_reply": "2022-09-22T13:04:32.436898Z",
     "shell.execute_reply.started": "2022-09-22T13:04:32.413420Z"
    }
   },
   "outputs": [
    {
     "data": {
      "text/html": [
       "<div>\n",
       "<style scoped>\n",
       "    .dataframe tbody tr th:only-of-type {\n",
       "        vertical-align: middle;\n",
       "    }\n",
       "\n",
       "    .dataframe tbody tr th {\n",
       "        vertical-align: top;\n",
       "    }\n",
       "\n",
       "    .dataframe thead th {\n",
       "        text-align: right;\n",
       "    }\n",
       "</style>\n",
       "<table border=\"1\" class=\"dataframe\">\n",
       "  <thead>\n",
       "    <tr style=\"text-align: right;\">\n",
       "      <th></th>\n",
       "      <th>step</th>\n",
       "      <th>type</th>\n",
       "      <th>amount</th>\n",
       "      <th>orig_cus_name</th>\n",
       "      <th>old_balance_orig_cus</th>\n",
       "      <th>new_balance_orig_cus</th>\n",
       "      <th>rec_cus_name</th>\n",
       "      <th>old_balance_rec_cus</th>\n",
       "      <th>new_balance_rec_cus</th>\n",
       "      <th>is_fraud</th>\n",
       "      <th>is_flagged_fraud</th>\n",
       "    </tr>\n",
       "  </thead>\n",
       "  <tbody>\n",
       "    <tr>\n",
       "      <th>0</th>\n",
       "      <td>1</td>\n",
       "      <td>PAYMENT</td>\n",
       "      <td>9839.64</td>\n",
       "      <td>C1231006815</td>\n",
       "      <td>170136.0</td>\n",
       "      <td>160296.36</td>\n",
       "      <td>M1979787155</td>\n",
       "      <td>0.0</td>\n",
       "      <td>0.0</td>\n",
       "      <td>0</td>\n",
       "      <td>0</td>\n",
       "    </tr>\n",
       "    <tr>\n",
       "      <th>1</th>\n",
       "      <td>1</td>\n",
       "      <td>PAYMENT</td>\n",
       "      <td>1864.28</td>\n",
       "      <td>C1666544295</td>\n",
       "      <td>21249.0</td>\n",
       "      <td>19384.72</td>\n",
       "      <td>M2044282225</td>\n",
       "      <td>0.0</td>\n",
       "      <td>0.0</td>\n",
       "      <td>0</td>\n",
       "      <td>0</td>\n",
       "    </tr>\n",
       "    <tr>\n",
       "      <th>2</th>\n",
       "      <td>1</td>\n",
       "      <td>TRANSFER</td>\n",
       "      <td>181.00</td>\n",
       "      <td>C1305486145</td>\n",
       "      <td>181.0</td>\n",
       "      <td>0.00</td>\n",
       "      <td>C553264065</td>\n",
       "      <td>0.0</td>\n",
       "      <td>0.0</td>\n",
       "      <td>1</td>\n",
       "      <td>0</td>\n",
       "    </tr>\n",
       "    <tr>\n",
       "      <th>3</th>\n",
       "      <td>1</td>\n",
       "      <td>CASH_OUT</td>\n",
       "      <td>181.00</td>\n",
       "      <td>C840083671</td>\n",
       "      <td>181.0</td>\n",
       "      <td>0.00</td>\n",
       "      <td>C38997010</td>\n",
       "      <td>21182.0</td>\n",
       "      <td>0.0</td>\n",
       "      <td>1</td>\n",
       "      <td>0</td>\n",
       "    </tr>\n",
       "    <tr>\n",
       "      <th>4</th>\n",
       "      <td>1</td>\n",
       "      <td>PAYMENT</td>\n",
       "      <td>11668.14</td>\n",
       "      <td>C2048537720</td>\n",
       "      <td>41554.0</td>\n",
       "      <td>29885.86</td>\n",
       "      <td>M1230701703</td>\n",
       "      <td>0.0</td>\n",
       "      <td>0.0</td>\n",
       "      <td>0</td>\n",
       "      <td>0</td>\n",
       "    </tr>\n",
       "  </tbody>\n",
       "</table>\n",
       "</div>"
      ],
      "text/plain": [
       "   step      type    amount orig_cus_name  old_balance_orig_cus  \\\n",
       "0     1   PAYMENT   9839.64   C1231006815              170136.0   \n",
       "1     1   PAYMENT   1864.28   C1666544295               21249.0   \n",
       "2     1  TRANSFER    181.00   C1305486145                 181.0   \n",
       "3     1  CASH_OUT    181.00    C840083671                 181.0   \n",
       "4     1   PAYMENT  11668.14   C2048537720               41554.0   \n",
       "\n",
       "   new_balance_orig_cus rec_cus_name  old_balance_rec_cus  \\\n",
       "0             160296.36  M1979787155                  0.0   \n",
       "1              19384.72  M2044282225                  0.0   \n",
       "2                  0.00   C553264065                  0.0   \n",
       "3                  0.00    C38997010              21182.0   \n",
       "4              29885.86  M1230701703                  0.0   \n",
       "\n",
       "   new_balance_rec_cus  is_fraud  is_flagged_fraud  \n",
       "0                  0.0         0                 0  \n",
       "1                  0.0         0                 0  \n",
       "2                  0.0         1                 0  \n",
       "3                  0.0         1                 0  \n",
       "4                  0.0         0                 0  "
      ]
     },
     "execution_count": 7,
     "metadata": {},
     "output_type": "execute_result"
    }
   ],
   "source": [
    "df.head()"
   ]
  },
  {
   "cell_type": "markdown",
   "metadata": {},
   "source": [
    "Checking for null values in each column"
   ]
  },
  {
   "cell_type": "code",
   "execution_count": 8,
   "metadata": {
    "execution": {
     "iopub.execute_input": "2022-09-22T13:04:32.440610Z",
     "iopub.status.busy": "2022-09-22T13:04:32.439845Z",
     "iopub.status.idle": "2022-09-22T13:04:33.174862Z",
     "shell.execute_reply": "2022-09-22T13:04:33.173792Z",
     "shell.execute_reply.started": "2022-09-22T13:04:32.440565Z"
    }
   },
   "outputs": [],
   "source": [
    "for col in df.columns:\n",
    "    if (df[col].isnull().sum() > 0):\n",
    "        print(col)"
   ]
  },
  {
   "cell_type": "markdown",
   "metadata": {},
   "source": [
    "Changing the name of columns to lower case"
   ]
  },
  {
   "cell_type": "code",
   "execution_count": 9,
   "metadata": {
    "execution": {
     "iopub.execute_input": "2022-09-22T13:04:33.179272Z",
     "iopub.status.busy": "2022-09-22T13:04:33.178951Z",
     "iopub.status.idle": "2022-09-22T13:04:33.187356Z",
     "shell.execute_reply": "2022-09-22T13:04:33.186236Z",
     "shell.execute_reply.started": "2022-09-22T13:04:33.179243Z"
    }
   },
   "outputs": [],
   "source": [
    "df.columns = df.columns.str.lower()"
   ]
  },
  {
   "cell_type": "code",
   "execution_count": 10,
   "metadata": {
    "execution": {
     "iopub.execute_input": "2022-09-22T13:04:33.189274Z",
     "iopub.status.busy": "2022-09-22T13:04:33.188844Z",
     "iopub.status.idle": "2022-09-22T13:04:33.208686Z",
     "shell.execute_reply": "2022-09-22T13:04:33.207647Z",
     "shell.execute_reply.started": "2022-09-22T13:04:33.189238Z"
    }
   },
   "outputs": [
    {
     "data": {
      "text/html": [
       "<div>\n",
       "<style scoped>\n",
       "    .dataframe tbody tr th:only-of-type {\n",
       "        vertical-align: middle;\n",
       "    }\n",
       "\n",
       "    .dataframe tbody tr th {\n",
       "        vertical-align: top;\n",
       "    }\n",
       "\n",
       "    .dataframe thead th {\n",
       "        text-align: right;\n",
       "    }\n",
       "</style>\n",
       "<table border=\"1\" class=\"dataframe\">\n",
       "  <thead>\n",
       "    <tr style=\"text-align: right;\">\n",
       "      <th></th>\n",
       "      <th>step</th>\n",
       "      <th>type</th>\n",
       "      <th>amount</th>\n",
       "      <th>orig_cus_name</th>\n",
       "      <th>old_balance_orig_cus</th>\n",
       "      <th>new_balance_orig_cus</th>\n",
       "      <th>rec_cus_name</th>\n",
       "      <th>old_balance_rec_cus</th>\n",
       "      <th>new_balance_rec_cus</th>\n",
       "      <th>is_fraud</th>\n",
       "      <th>is_flagged_fraud</th>\n",
       "    </tr>\n",
       "  </thead>\n",
       "  <tbody>\n",
       "    <tr>\n",
       "      <th>0</th>\n",
       "      <td>1</td>\n",
       "      <td>PAYMENT</td>\n",
       "      <td>9839.64</td>\n",
       "      <td>C1231006815</td>\n",
       "      <td>170136.0</td>\n",
       "      <td>160296.36</td>\n",
       "      <td>M1979787155</td>\n",
       "      <td>0.0</td>\n",
       "      <td>0.0</td>\n",
       "      <td>0</td>\n",
       "      <td>0</td>\n",
       "    </tr>\n",
       "    <tr>\n",
       "      <th>1</th>\n",
       "      <td>1</td>\n",
       "      <td>PAYMENT</td>\n",
       "      <td>1864.28</td>\n",
       "      <td>C1666544295</td>\n",
       "      <td>21249.0</td>\n",
       "      <td>19384.72</td>\n",
       "      <td>M2044282225</td>\n",
       "      <td>0.0</td>\n",
       "      <td>0.0</td>\n",
       "      <td>0</td>\n",
       "      <td>0</td>\n",
       "    </tr>\n",
       "    <tr>\n",
       "      <th>2</th>\n",
       "      <td>1</td>\n",
       "      <td>TRANSFER</td>\n",
       "      <td>181.00</td>\n",
       "      <td>C1305486145</td>\n",
       "      <td>181.0</td>\n",
       "      <td>0.00</td>\n",
       "      <td>C553264065</td>\n",
       "      <td>0.0</td>\n",
       "      <td>0.0</td>\n",
       "      <td>1</td>\n",
       "      <td>0</td>\n",
       "    </tr>\n",
       "    <tr>\n",
       "      <th>3</th>\n",
       "      <td>1</td>\n",
       "      <td>CASH_OUT</td>\n",
       "      <td>181.00</td>\n",
       "      <td>C840083671</td>\n",
       "      <td>181.0</td>\n",
       "      <td>0.00</td>\n",
       "      <td>C38997010</td>\n",
       "      <td>21182.0</td>\n",
       "      <td>0.0</td>\n",
       "      <td>1</td>\n",
       "      <td>0</td>\n",
       "    </tr>\n",
       "    <tr>\n",
       "      <th>4</th>\n",
       "      <td>1</td>\n",
       "      <td>PAYMENT</td>\n",
       "      <td>11668.14</td>\n",
       "      <td>C2048537720</td>\n",
       "      <td>41554.0</td>\n",
       "      <td>29885.86</td>\n",
       "      <td>M1230701703</td>\n",
       "      <td>0.0</td>\n",
       "      <td>0.0</td>\n",
       "      <td>0</td>\n",
       "      <td>0</td>\n",
       "    </tr>\n",
       "  </tbody>\n",
       "</table>\n",
       "</div>"
      ],
      "text/plain": [
       "   step      type    amount orig_cus_name  old_balance_orig_cus  \\\n",
       "0     1   PAYMENT   9839.64   C1231006815              170136.0   \n",
       "1     1   PAYMENT   1864.28   C1666544295               21249.0   \n",
       "2     1  TRANSFER    181.00   C1305486145                 181.0   \n",
       "3     1  CASH_OUT    181.00    C840083671                 181.0   \n",
       "4     1   PAYMENT  11668.14   C2048537720               41554.0   \n",
       "\n",
       "   new_balance_orig_cus rec_cus_name  old_balance_rec_cus  \\\n",
       "0             160296.36  M1979787155                  0.0   \n",
       "1              19384.72  M2044282225                  0.0   \n",
       "2                  0.00   C553264065                  0.0   \n",
       "3                  0.00    C38997010              21182.0   \n",
       "4              29885.86  M1230701703                  0.0   \n",
       "\n",
       "   new_balance_rec_cus  is_fraud  is_flagged_fraud  \n",
       "0                  0.0         0                 0  \n",
       "1                  0.0         0                 0  \n",
       "2                  0.0         1                 0  \n",
       "3                  0.0         1                 0  \n",
       "4                  0.0         0                 0  "
      ]
     },
     "execution_count": 10,
     "metadata": {},
     "output_type": "execute_result"
    }
   ],
   "source": [
    "df.head()"
   ]
  },
  {
   "cell_type": "code",
   "execution_count": 83,
   "metadata": {
    "execution": {
     "iopub.execute_input": "2022-09-22T16:41:23.538319Z",
     "iopub.status.busy": "2022-09-22T16:41:23.537892Z",
     "iopub.status.idle": "2022-09-22T16:41:23.558981Z",
     "shell.execute_reply": "2022-09-22T16:41:23.557927Z",
     "shell.execute_reply.started": "2022-09-22T16:41:23.538285Z"
    }
   },
   "outputs": [
    {
     "data": {
      "text/plain": [
       "8213"
      ]
     },
     "execution_count": 83,
     "metadata": {},
     "output_type": "execute_result"
    }
   ],
   "source": [
    "# Number of Fraud Transactions\n",
    "len(df[df['is_fraud']==1])"
   ]
  },
  {
   "cell_type": "code",
   "execution_count": 11,
   "metadata": {
    "execution": {
     "iopub.execute_input": "2022-09-22T13:04:33.212726Z",
     "iopub.status.busy": "2022-09-22T13:04:33.211971Z",
     "iopub.status.idle": "2022-09-22T13:04:33.819380Z",
     "shell.execute_reply": "2022-09-22T13:04:33.818238Z",
     "shell.execute_reply.started": "2022-09-22T13:04:33.212696Z"
    }
   },
   "outputs": [
    {
     "data": {
      "image/png": "[encoded data removed]",
      "text/plain": [
       "<Figure size 864x576 with 1 Axes>"
      ]
     },
     "metadata": {
      "needs_background": "light"
     },
     "output_type": "display_data"
    }
   ],
   "source": [
    "f, ax = plt.subplots(1,1, figsize=(8,8))\n",
    "# plotting the number of different types of values present in type column\n",
    "df.type.value_counts().plot(kind='bar', \n",
    "        title=\"Type of Transaction\", ax=ax, figsize=(12,8))\n",
    "plt.show()"
   ]
  },
  {
   "cell_type": "code",
   "execution_count": 12,
   "metadata": {
    "execution": {
     "iopub.execute_input": "2022-09-22T13:04:33.825525Z",
     "iopub.status.busy": "2022-09-22T13:04:33.820784Z",
     "iopub.status.idle": "2022-09-22T13:04:35.402051Z",
     "shell.execute_reply": "2022-09-22T13:04:35.401100Z",
     "shell.execute_reply.started": "2022-09-22T13:04:33.825442Z"
    }
   },
   "outputs": [
    {
     "data": {
      "image/png": "[encoded data removed]",
      "text/plain": [
       "<Figure size 864x432 with 1 Axes>"
      ]
     },
     "metadata": {
      "needs_background": "light"
     },
     "output_type": "display_data"
    }
   ],
   "source": [
    "from matplotlib.pyplot import figure\n",
    "# setting the size of figure\n",
    "figure(figsize=(12, 6))\n",
    "# grouping data points based on the values present in columns \"type\" and target variable \"is_fraud\"\n",
    "ax = df.groupby(['type', 'is_fraud']).size().plot(kind='bar')\n",
    "# setting the title of plot\n",
    "ax.set_title(\"Distribution of Fraud Transactions across Type of Transaction\")\n",
    "# setting the label name of x label\n",
    "ax.set_xlabel(\"(Type, is_fraud)\")\n",
    "# setting the label name of y label\n",
    "ax.set_ylabel(\"Number of Transactions\")\n",
    "# getting the height of each and every bar plot, and annotating the plot with that value\n",
    "for p in ax.patches:\n",
    "    ax.annotate(str(format(int(p.get_height()), ' ,d')), \n",
    "                (p.get_x(), p.get_height()*1.01))"
   ]
  },
  {
   "cell_type": "markdown",
   "metadata": {},
   "source": [
    "Fraud transactions have occured in only two type of transactions, which are\n",
    "* when cash is taken out - \"CASH_OUT\"\n",
    "* or when cash is transferred - \"TRANSFER\""
   ]
  },
  {
   "cell_type": "code",
   "execution_count": 13,
   "metadata": {
    "execution": {
     "iopub.execute_input": "2022-09-22T13:04:35.404413Z",
     "iopub.status.busy": "2022-09-22T13:04:35.403756Z",
     "iopub.status.idle": "2022-09-22T13:04:35.432452Z",
     "shell.execute_reply": "2022-09-22T13:04:35.431614Z",
     "shell.execute_reply.started": "2022-09-22T13:04:35.404376Z"
    }
   },
   "outputs": [
    {
     "data": {
      "text/plain": [
       "CASH_OUT    4116\n",
       "TRANSFER    4097\n",
       "Name: type, dtype: int64"
      ]
     },
     "execution_count": 13,
     "metadata": {},
     "output_type": "execute_result"
    }
   ],
   "source": [
    "df[df['is_fraud']==1].type.value_counts()"
   ]
  },
  {
   "cell_type": "code",
   "execution_count": 14,
   "metadata": {
    "execution": {
     "iopub.execute_input": "2022-09-22T13:04:35.434393Z",
     "iopub.status.busy": "2022-09-22T13:04:35.434029Z",
     "iopub.status.idle": "2022-09-22T13:04:35.454164Z",
     "shell.execute_reply": "2022-09-22T13:04:35.453314Z",
     "shell.execute_reply.started": "2022-09-22T13:04:35.434359Z"
    }
   },
   "outputs": [
    {
     "data": {
      "text/plain": [
       "10000000.0"
      ]
     },
     "execution_count": 14,
     "metadata": {},
     "output_type": "execute_result"
    }
   ],
   "source": [
    "df[df['is_fraud']==1]['amount'].max()"
   ]
  },
  {
   "cell_type": "code",
   "execution_count": 15,
   "metadata": {
    "execution": {
     "iopub.execute_input": "2022-09-22T13:04:35.457606Z",
     "iopub.status.busy": "2022-09-22T13:04:35.457332Z",
     "iopub.status.idle": "2022-09-22T13:04:35.476901Z",
     "shell.execute_reply": "2022-09-22T13:04:35.476015Z",
     "shell.execute_reply.started": "2022-09-22T13:04:35.457580Z"
    }
   },
   "outputs": [
    {
     "data": {
      "text/plain": [
       "0.0"
      ]
     },
     "execution_count": 15,
     "metadata": {},
     "output_type": "execute_result"
    }
   ],
   "source": [
    "df[df['is_fraud']==1]['amount'].min()"
   ]
  },
  {
   "cell_type": "markdown",
   "metadata": {},
   "source": [
    "* \"isFlaggedFraud\" variable - The financial institution tries to control massive transfers from one account to another and flags illegal attempts. An illegal attempt in this dataset is an attempt to transfer more than 200,000 in a single transaction.\n",
    "* Whenever transaction amount > 200,000, is_flagged_fraud == 1, else 0"
   ]
  },
  {
   "cell_type": "code",
   "execution_count": 16,
   "metadata": {
    "execution": {
     "iopub.execute_input": "2022-09-22T13:04:35.480424Z",
     "iopub.status.busy": "2022-09-22T13:04:35.480103Z",
     "iopub.status.idle": "2022-09-22T13:04:35.496884Z",
     "shell.execute_reply": "2022-09-22T13:04:35.496166Z",
     "shell.execute_reply.started": "2022-09-22T13:04:35.480398Z"
    }
   },
   "outputs": [
    {
     "data": {
      "text/plain": [
       "16"
      ]
     },
     "execution_count": 16,
     "metadata": {},
     "output_type": "execute_result"
    }
   ],
   "source": [
    "len(df[df['is_flagged_fraud']==1])"
   ]
  },
  {
   "cell_type": "markdown",
   "metadata": {},
   "source": [
    "There are 16 instances when is_flagged_fraud is 1."
   ]
  },
  {
   "cell_type": "code",
   "execution_count": 17,
   "metadata": {
    "execution": {
     "iopub.execute_input": "2022-09-22T13:04:35.498555Z",
     "iopub.status.busy": "2022-09-22T13:04:35.498026Z",
     "iopub.status.idle": "2022-09-22T13:04:35.516411Z",
     "shell.execute_reply": "2022-09-22T13:04:35.515418Z",
     "shell.execute_reply.started": "2022-09-22T13:04:35.498520Z"
    }
   },
   "outputs": [
    {
     "data": {
      "text/plain": [
       "TRANSFER    16\n",
       "Name: type, dtype: int64"
      ]
     },
     "execution_count": 17,
     "metadata": {},
     "output_type": "execute_result"
    }
   ],
   "source": [
    "df[df['is_flagged_fraud']==1].type.value_counts()"
   ]
  },
  {
   "cell_type": "markdown",
   "metadata": {},
   "source": [
    "Whenever is_flagged_fraud == 1, the type of transaction is always \"TRANSFER\""
   ]
  },
  {
   "cell_type": "code",
   "execution_count": 18,
   "metadata": {
    "execution": {
     "iopub.execute_input": "2022-09-22T13:04:35.518195Z",
     "iopub.status.busy": "2022-09-22T13:04:35.517755Z",
     "iopub.status.idle": "2022-09-22T13:04:35.538488Z",
     "shell.execute_reply": "2022-09-22T13:04:35.537494Z",
     "shell.execute_reply.started": "2022-09-22T13:04:35.518159Z"
    }
   },
   "outputs": [
    {
     "data": {
      "text/plain": [
       "10000000.00    3\n",
       "4953893.08     1\n",
       "1343002.08     1\n",
       "536624.41      1\n",
       "4892193.09     1\n",
       "9585040.37     1\n",
       "3576297.10     1\n",
       "353874.22      1\n",
       "2542664.27     1\n",
       "399045.08      1\n",
       "3441041.46     1\n",
       "3171085.59     1\n",
       "7316255.05     1\n",
       "5674547.89     1\n",
       "Name: amount, dtype: int64"
      ]
     },
     "execution_count": 18,
     "metadata": {},
     "output_type": "execute_result"
    }
   ],
   "source": [
    "df[df['is_flagged_fraud']==1]['amount'].value_counts()"
   ]
  },
  {
   "cell_type": "markdown",
   "metadata": {},
   "source": [
    "Always the amount is greater than 200,000 whenever is_flagged_fraud is 1. This justifies their claim."
   ]
  },
  {
   "cell_type": "code",
   "execution_count": 19,
   "metadata": {
    "execution": {
     "iopub.execute_input": "2022-09-22T13:04:35.540556Z",
     "iopub.status.busy": "2022-09-22T13:04:35.540144Z",
     "iopub.status.idle": "2022-09-22T13:04:36.675863Z",
     "shell.execute_reply": "2022-09-22T13:04:36.674731Z",
     "shell.execute_reply.started": "2022-09-22T13:04:35.540517Z"
    }
   },
   "outputs": [
    {
     "data": {
      "text/plain": [
       "92445516.64"
      ]
     },
     "execution_count": 19,
     "metadata": {},
     "output_type": "execute_result"
    }
   ],
   "source": [
    "df_transfer = df.loc[df.type == 'TRANSFER']\n",
    "df_not_flagged = df.loc[df.is_flagged_fraud == 0]\n",
    "\n",
    "df_transfer.loc[df_transfer.is_flagged_fraud == 0].amount.max()"
   ]
  },
  {
   "cell_type": "markdown",
   "metadata": {},
   "source": [
    "But there are instances when amount is greater than 200,000 but these transactions are not flagged. So in such scenarios the credibility of variable \"is_flagged_fraud\" is in jeopardy."
   ]
  },
  {
   "cell_type": "code",
   "execution_count": 20,
   "metadata": {
    "execution": {
     "iopub.execute_input": "2022-09-22T13:04:36.678096Z",
     "iopub.status.busy": "2022-09-22T13:04:36.677558Z",
     "iopub.status.idle": "2022-09-22T13:04:36.763128Z",
     "shell.execute_reply": "2022-09-22T13:04:36.762213Z",
     "shell.execute_reply.started": "2022-09-22T13:04:36.678057Z"
    }
   },
   "outputs": [
    {
     "data": {
      "text/plain": [
       "0.7676620210955342"
      ]
     },
     "execution_count": 20,
     "metadata": {},
     "output_type": "execute_result"
    }
   ],
   "source": [
    "(df_transfer[df_transfer['is_flagged_fraud']==0]['amount'] > 200000).sum()/len(df_transfer['is_flagged_fraud']==0)"
   ]
  },
  {
   "cell_type": "markdown",
   "metadata": {},
   "source": [
    "So whenever is_flagged_fraud is 0, 76% of the time the amount is more than 200000. So fraud is not flagged 76% of the time, when it is actually a fraud by definition."
   ]
  },
  {
   "cell_type": "markdown",
   "metadata": {},
   "source": [
    "**Although \"is_fraud\" is always set when \"is_flagged_fraud\" is set, since\n",
    "\"is_flagged_fraud\" is set just 16 times in a seemingly meaningless way, we \n",
    "can treat this feature as insignificant and discard it in the dataset \n",
    "without loosing information**"
   ]
  },
  {
   "cell_type": "code",
   "execution_count": 21,
   "metadata": {
    "execution": {
     "iopub.execute_input": "2022-09-22T13:04:36.765012Z",
     "iopub.status.busy": "2022-09-22T13:04:36.764532Z",
     "iopub.status.idle": "2022-09-22T13:04:44.509921Z",
     "shell.execute_reply": "2022-09-22T13:04:44.508936Z",
     "shell.execute_reply.started": "2022-09-22T13:04:36.764973Z"
    }
   },
   "outputs": [],
   "source": [
    "df['orig_cus_name_initial'] = df['orig_cus_name'].astype(str).str[0]\n",
    "df['rec_cus_name_initial'] = df['rec_cus_name'].astype(str).str[0]"
   ]
  },
  {
   "cell_type": "markdown",
   "metadata": {},
   "source": [
    "* orig_cus_name_initial - it stores first letter of the customer name. If it is \"C\" -> then the original customer is a customer, if it is \"M\" -> then the original customer is a merchant.\n",
    "* rec_cus_name_initial - it stores first letter of receiving customer name. "
   ]
  },
  {
   "cell_type": "code",
   "execution_count": 22,
   "metadata": {
    "execution": {
     "iopub.execute_input": "2022-09-22T13:04:44.511984Z",
     "iopub.status.busy": "2022-09-22T13:04:44.511522Z",
     "iopub.status.idle": "2022-09-22T13:04:44.721669Z",
     "shell.execute_reply": "2022-09-22T13:04:44.720644Z",
     "shell.execute_reply.started": "2022-09-22T13:04:44.511947Z"
    }
   },
   "outputs": [
    {
     "data": {
      "text/plain": [
       "C    6362620\n",
       "Name: orig_cus_name_initial, dtype: int64"
      ]
     },
     "execution_count": 22,
     "metadata": {},
     "output_type": "execute_result"
    }
   ],
   "source": [
    "df['orig_cus_name_initial'].value_counts()"
   ]
  },
  {
   "cell_type": "markdown",
   "metadata": {},
   "source": [
    "**Transactions are always initiated by customer**"
   ]
  },
  {
   "cell_type": "code",
   "execution_count": 23,
   "metadata": {
    "execution": {
     "iopub.execute_input": "2022-09-22T13:04:44.723913Z",
     "iopub.status.busy": "2022-09-22T13:04:44.723313Z",
     "iopub.status.idle": "2022-09-22T13:04:44.935375Z",
     "shell.execute_reply": "2022-09-22T13:04:44.934131Z",
     "shell.execute_reply.started": "2022-09-22T13:04:44.723811Z"
    }
   },
   "outputs": [
    {
     "data": {
      "text/plain": [
       "C    4211125\n",
       "M    2151495\n",
       "Name: rec_cus_name_initial, dtype: int64"
      ]
     },
     "execution_count": 23,
     "metadata": {},
     "output_type": "execute_result"
    }
   ],
   "source": [
    "df['rec_cus_name_initial'].value_counts()"
   ]
  },
  {
   "cell_type": "markdown",
   "metadata": {},
   "source": [
    "While at the receiving end there could be customer or merchant. We don't have any information of old balance and new balance of merchants."
   ]
  },
  {
   "cell_type": "markdown",
   "metadata": {},
   "source": [
    "Fraudulent transactions are not indicated by original customer name or receiving customer name."
   ]
  },
  {
   "cell_type": "code",
   "execution_count": 24,
   "metadata": {
    "execution": {
     "iopub.execute_input": "2022-09-22T13:04:44.942344Z",
     "iopub.status.busy": "2022-09-22T13:04:44.942033Z",
     "iopub.status.idle": "2022-09-22T13:04:50.093624Z",
     "shell.execute_reply": "2022-09-22T13:04:50.092517Z",
     "shell.execute_reply.started": "2022-09-22T13:04:44.942316Z"
    }
   },
   "outputs": [
    {
     "data": {
      "text/plain": [
       "(6353307, 2722362)"
      ]
     },
     "execution_count": 24,
     "metadata": {},
     "output_type": "execute_result"
    }
   ],
   "source": [
    "df['orig_cus_name'].nunique(), df['rec_cus_name'].nunique()"
   ]
  },
  {
   "cell_type": "markdown",
   "metadata": {},
   "source": [
    "These huge number of unique categorical variables can't be encoded. So we will be dropping these features."
   ]
  },
  {
   "cell_type": "code",
   "execution_count": 25,
   "metadata": {
    "execution": {
     "iopub.execute_input": "2022-09-22T13:04:50.095803Z",
     "iopub.status.busy": "2022-09-22T13:04:50.095418Z",
     "iopub.status.idle": "2022-09-22T13:05:00.222719Z",
     "shell.execute_reply": "2022-09-22T13:05:00.221600Z",
     "shell.execute_reply.started": "2022-09-22T13:04:50.095767Z"
    }
   },
   "outputs": [
    {
     "data": {
      "text/plain": [
       "C627667781     1\n",
       "C1318395825    1\n",
       "C464831537     1\n",
       "C693982422     1\n",
       "C78109530      1\n",
       "              ..\n",
       "C2051359467    3\n",
       "C1065307291    3\n",
       "C1530544995    3\n",
       "C1999539787    3\n",
       "C1902386530    3\n",
       "Name: orig_cus_name, Length: 6353307, dtype: int64"
      ]
     },
     "execution_count": 25,
     "metadata": {},
     "output_type": "execute_result"
    }
   ],
   "source": [
    "df['orig_cus_name'].value_counts().sort_values()"
   ]
  },
  {
   "cell_type": "code",
   "execution_count": 26,
   "metadata": {
    "execution": {
     "iopub.execute_input": "2022-09-22T13:05:00.224852Z",
     "iopub.status.busy": "2022-09-22T13:05:00.224480Z",
     "iopub.status.idle": "2022-09-22T13:05:05.463848Z",
     "shell.execute_reply": "2022-09-22T13:05:05.462937Z",
     "shell.execute_reply.started": "2022-09-22T13:05:00.224817Z"
    }
   },
   "outputs": [
    {
     "data": {
      "text/plain": [
       "C1286084959    113\n",
       "C985934102     109\n",
       "C665576141     105\n",
       "C2083562754    102\n",
       "C248609774     101\n",
       "              ... \n",
       "M1470027725      1\n",
       "M1330329251      1\n",
       "M1784358659      1\n",
       "M2081431099      1\n",
       "C2080388513      1\n",
       "Name: rec_cus_name, Length: 2722362, dtype: int64"
      ]
     },
     "execution_count": 26,
     "metadata": {},
     "output_type": "execute_result"
    }
   ],
   "source": [
    "df['rec_cus_name'].value_counts()"
   ]
  },
  {
   "cell_type": "markdown",
   "metadata": {},
   "source": []
  },
  {
   "cell_type": "markdown",
   "metadata": {},
   "source": [
    "There is a huge variety and number of unique values present in names of customer so they could not be encoded, or grouped together and encoded(rare encoding). Due to computational inefficiency and time constraint too, encoding them is tough."
   ]
  },
  {
   "cell_type": "markdown",
   "metadata": {},
   "source": [
    "**Data Cleaning**\n",
    "\n",
    "From EDA, we know that fraud only occurs in \"TRANSFER\" and \"CASH_OUT\" type. So we assemble only the corresponding data in X for analysis."
   ]
  },
  {
   "cell_type": "code",
   "execution_count": 27,
   "metadata": {
    "execution": {
     "iopub.execute_input": "2022-09-22T13:05:05.470159Z",
     "iopub.status.busy": "2022-09-22T13:05:05.467967Z",
     "iopub.status.idle": "2022-09-22T13:05:08.734656Z",
     "shell.execute_reply": "2022-09-22T13:05:08.733677Z",
     "shell.execute_reply.started": "2022-09-22T13:05:05.470120Z"
    }
   },
   "outputs": [],
   "source": [
    "data = df.loc[(df.type == 'TRANSFER') | (df.type == 'CASH_OUT')]\n",
    "# setting the seed to ensure reproducibility of results\n",
    "np.random.seed(192)\n",
    "# y is the traget variable\n",
    "y = data['is_fraud']\n",
    "# X contains the input\n",
    "X = data.drop(columns=['is_fraud'])\n",
    "# Dropping categorical and useless column from input features\n",
    "X = X.drop(columns= ['orig_cus_name', 'rec_cus_name',\n",
    "                     'is_flagged_fraud'])\n",
    "# Encoding \"type\" column. Whenever type == Transfer, it is 1 else it is 0\n",
    "X['type'] = np.where(X['type']=='TRANSFER', 0, 1)\n",
    "# Converting this categorical column to integer type\n",
    "X['type'] = X['type'].astype(int)"
   ]
  },
  {
   "cell_type": "code",
   "execution_count": 28,
   "metadata": {
    "execution": {
     "iopub.execute_input": "2022-09-22T13:05:08.736673Z",
     "iopub.status.busy": "2022-09-22T13:05:08.736021Z",
     "iopub.status.idle": "2022-09-22T13:05:08.753277Z",
     "shell.execute_reply": "2022-09-22T13:05:08.751236Z",
     "shell.execute_reply.started": "2022-09-22T13:05:08.736636Z"
    }
   },
   "outputs": [
    {
     "data": {
      "text/html": [
       "<div>\n",
       "<style scoped>\n",
       "    .dataframe tbody tr th:only-of-type {\n",
       "        vertical-align: middle;\n",
       "    }\n",
       "\n",
       "    .dataframe tbody tr th {\n",
       "        vertical-align: top;\n",
       "    }\n",
       "\n",
       "    .dataframe thead th {\n",
       "        text-align: right;\n",
       "    }\n",
       "</style>\n",
       "<table border=\"1\" class=\"dataframe\">\n",
       "  <thead>\n",
       "    <tr style=\"text-align: right;\">\n",
       "      <th></th>\n",
       "      <th>step</th>\n",
       "      <th>type</th>\n",
       "      <th>amount</th>\n",
       "      <th>old_balance_orig_cus</th>\n",
       "      <th>new_balance_orig_cus</th>\n",
       "      <th>old_balance_rec_cus</th>\n",
       "      <th>new_balance_rec_cus</th>\n",
       "      <th>orig_cus_name_initial</th>\n",
       "      <th>rec_cus_name_initial</th>\n",
       "    </tr>\n",
       "  </thead>\n",
       "  <tbody>\n",
       "    <tr>\n",
       "      <th>2</th>\n",
       "      <td>1</td>\n",
       "      <td>0</td>\n",
       "      <td>181.00</td>\n",
       "      <td>181.0</td>\n",
       "      <td>0.0</td>\n",
       "      <td>0.0</td>\n",
       "      <td>0.00</td>\n",
       "      <td>C</td>\n",
       "      <td>C</td>\n",
       "    </tr>\n",
       "    <tr>\n",
       "      <th>3</th>\n",
       "      <td>1</td>\n",
       "      <td>1</td>\n",
       "      <td>181.00</td>\n",
       "      <td>181.0</td>\n",
       "      <td>0.0</td>\n",
       "      <td>21182.0</td>\n",
       "      <td>0.00</td>\n",
       "      <td>C</td>\n",
       "      <td>C</td>\n",
       "    </tr>\n",
       "    <tr>\n",
       "      <th>15</th>\n",
       "      <td>1</td>\n",
       "      <td>1</td>\n",
       "      <td>229133.94</td>\n",
       "      <td>15325.0</td>\n",
       "      <td>0.0</td>\n",
       "      <td>5083.0</td>\n",
       "      <td>51513.44</td>\n",
       "      <td>C</td>\n",
       "      <td>C</td>\n",
       "    </tr>\n",
       "    <tr>\n",
       "      <th>19</th>\n",
       "      <td>1</td>\n",
       "      <td>0</td>\n",
       "      <td>215310.30</td>\n",
       "      <td>705.0</td>\n",
       "      <td>0.0</td>\n",
       "      <td>22425.0</td>\n",
       "      <td>0.00</td>\n",
       "      <td>C</td>\n",
       "      <td>C</td>\n",
       "    </tr>\n",
       "    <tr>\n",
       "      <th>24</th>\n",
       "      <td>1</td>\n",
       "      <td>0</td>\n",
       "      <td>311685.89</td>\n",
       "      <td>10835.0</td>\n",
       "      <td>0.0</td>\n",
       "      <td>6267.0</td>\n",
       "      <td>2719172.89</td>\n",
       "      <td>C</td>\n",
       "      <td>C</td>\n",
       "    </tr>\n",
       "  </tbody>\n",
       "</table>\n",
       "</div>"
      ],
      "text/plain": [
       "    step  type     amount  old_balance_orig_cus  new_balance_orig_cus  \\\n",
       "2      1     0     181.00                 181.0                   0.0   \n",
       "3      1     1     181.00                 181.0                   0.0   \n",
       "15     1     1  229133.94               15325.0                   0.0   \n",
       "19     1     0  215310.30                 705.0                   0.0   \n",
       "24     1     0  311685.89               10835.0                   0.0   \n",
       "\n",
       "    old_balance_rec_cus  new_balance_rec_cus orig_cus_name_initial  \\\n",
       "2                   0.0                 0.00                     C   \n",
       "3               21182.0                 0.00                     C   \n",
       "15               5083.0             51513.44                     C   \n",
       "19              22425.0                 0.00                     C   \n",
       "24               6267.0           2719172.89                     C   \n",
       "\n",
       "   rec_cus_name_initial  \n",
       "2                     C  \n",
       "3                     C  \n",
       "15                    C  \n",
       "19                    C  \n",
       "24                    C  "
      ]
     },
     "execution_count": 28,
     "metadata": {},
     "output_type": "execute_result"
    }
   ],
   "source": [
    "X.head()"
   ]
  },
  {
   "cell_type": "code",
   "execution_count": 29,
   "metadata": {
    "execution": {
     "iopub.execute_input": "2022-09-22T13:05:08.755612Z",
     "iopub.status.busy": "2022-09-22T13:05:08.754926Z",
     "iopub.status.idle": "2022-09-22T13:05:08.867153Z",
     "shell.execute_reply": "2022-09-22T13:05:08.866170Z",
     "shell.execute_reply.started": "2022-09-22T13:05:08.755574Z"
    }
   },
   "outputs": [],
   "source": [
    "# Dropping this feature as it is constant all the time, and won't help in improving the model\n",
    "X = X.drop(columns=['orig_cus_name_initial'])"
   ]
  },
  {
   "cell_type": "code",
   "execution_count": 30,
   "metadata": {
    "execution": {
     "iopub.execute_input": "2022-09-22T13:05:08.869168Z",
     "iopub.status.busy": "2022-09-22T13:05:08.868781Z",
     "iopub.status.idle": "2022-09-22T13:05:09.034046Z",
     "shell.execute_reply": "2022-09-22T13:05:09.033051Z",
     "shell.execute_reply.started": "2022-09-22T13:05:08.869130Z"
    }
   },
   "outputs": [],
   "source": [
    "# Encoding receiving customer name starting with C as 0, else 1\n",
    "X['rec_cus_name_initial'] = np.where(X['rec_cus_name_initial']=='C', 0, 1)\n",
    "# Converting this categorical column to numerical\n",
    "X['rec_cus_name_initial'] = X['rec_cus_name_initial'].astype(int)"
   ]
  },
  {
   "cell_type": "code",
   "execution_count": 31,
   "metadata": {
    "execution": {
     "iopub.execute_input": "2022-09-22T13:05:09.036136Z",
     "iopub.status.busy": "2022-09-22T13:05:09.035751Z",
     "iopub.status.idle": "2022-09-22T13:05:09.044817Z",
     "shell.execute_reply": "2022-09-22T13:05:09.043874Z",
     "shell.execute_reply.started": "2022-09-22T13:05:09.036098Z"
    }
   },
   "outputs": [
    {
     "data": {
      "text/plain": [
       "step                      int64\n",
       "type                      int64\n",
       "amount                  float64\n",
       "old_balance_orig_cus    float64\n",
       "new_balance_orig_cus    float64\n",
       "old_balance_rec_cus     float64\n",
       "new_balance_rec_cus     float64\n",
       "rec_cus_name_initial      int64\n",
       "dtype: object"
      ]
     },
     "execution_count": 31,
     "metadata": {},
     "output_type": "execute_result"
    }
   ],
   "source": [
    "# Checking data type of inputs, all are numerical values now\n",
    "X.dtypes"
   ]
  },
  {
   "cell_type": "code",
   "execution_count": 32,
   "metadata": {
    "execution": {
     "iopub.execute_input": "2022-09-22T13:05:09.047056Z",
     "iopub.status.busy": "2022-09-22T13:05:09.046166Z",
     "iopub.status.idle": "2022-09-22T13:05:09.056528Z",
     "shell.execute_reply": "2022-09-22T13:05:09.055526Z",
     "shell.execute_reply.started": "2022-09-22T13:05:09.047017Z"
    }
   },
   "outputs": [
    {
     "data": {
      "text/plain": [
       "dtype('int64')"
      ]
     },
     "execution_count": 32,
     "metadata": {},
     "output_type": "execute_result"
    }
   ],
   "source": [
    "# checking data type of target variable too\n",
    "y.dtypes"
   ]
  },
  {
   "cell_type": "code",
   "execution_count": 33,
   "metadata": {
    "execution": {
     "iopub.execute_input": "2022-09-22T13:05:09.058548Z",
     "iopub.status.busy": "2022-09-22T13:05:09.058025Z",
     "iopub.status.idle": "2022-09-22T13:05:09.101492Z",
     "shell.execute_reply": "2022-09-22T13:05:09.100569Z",
     "shell.execute_reply.started": "2022-09-22T13:05:09.058511Z"
    }
   },
   "outputs": [],
   "source": [
    "X['error_balance_orig_cus'] = X['new_balance_orig_cus'] + X['amount'] - X['old_balance_orig_cus']\n",
    "X['error_balance_rec_cus'] = X['old_balance_rec_cus'] + X['amount'] - X['new_balance_rec_cus']"
   ]
  },
  {
   "cell_type": "markdown",
   "metadata": {},
   "source": [
    "* These variables represent error in balance of original and receiving customer. This variable came out to be an important feature from previous kernel so including it."
   ]
  },
  {
   "cell_type": "code",
   "execution_count": 34,
   "metadata": {
    "execution": {
     "iopub.execute_input": "2022-09-22T13:05:09.105017Z",
     "iopub.status.busy": "2022-09-22T13:05:09.104700Z",
     "iopub.status.idle": "2022-09-22T13:05:09.788888Z",
     "shell.execute_reply": "2022-09-22T13:05:09.787889Z",
     "shell.execute_reply.started": "2022-09-22T13:05:09.104989Z"
    }
   },
   "outputs": [],
   "source": [
    "# Splitting the data into train and test\n",
    "X_train, X_test, y_train, y_test = train_test_split(X, y, \n",
    "                            test_size=0.2, random_state=192)"
   ]
  },
  {
   "cell_type": "code",
   "execution_count": 81,
   "metadata": {
    "execution": {
     "iopub.execute_input": "2022-09-22T16:39:29.613987Z",
     "iopub.status.busy": "2022-09-22T16:39:29.613536Z",
     "iopub.status.idle": "2022-09-22T16:39:34.785858Z",
     "shell.execute_reply": "2022-09-22T16:39:34.784817Z",
     "shell.execute_reply.started": "2022-09-22T16:39:29.613946Z"
    }
   },
   "outputs": [
    {
     "data": {
      "text/plain": [
       "0.002969778376566274"
      ]
     },
     "execution_count": 81,
     "metadata": {},
     "output_type": "execute_result"
    }
   ],
   "source": [
    "sum(y_train.values == 1)/len(y_train)"
   ]
  },
  {
   "cell_type": "code",
   "execution_count": 82,
   "metadata": {
    "execution": {
     "iopub.execute_input": "2022-09-22T16:39:34.788161Z",
     "iopub.status.busy": "2022-09-22T16:39:34.787781Z",
     "iopub.status.idle": "2022-09-22T16:39:35.855714Z",
     "shell.execute_reply": "2022-09-22T16:39:35.854574Z",
     "shell.execute_reply.started": "2022-09-22T16:39:34.788123Z"
    }
   },
   "outputs": [
    {
     "data": {
      "text/plain": [
       "0.00294360762486419"
      ]
     },
     "execution_count": 82,
     "metadata": {},
     "output_type": "execute_result"
    }
   ],
   "source": [
    "sum(y_test.values == 1)/len(y_test)"
   ]
  },
  {
   "cell_type": "code",
   "execution_count": 35,
   "metadata": {
    "execution": {
     "iopub.execute_input": "2022-09-22T13:05:09.791037Z",
     "iopub.status.busy": "2022-09-22T13:05:09.790358Z",
     "iopub.status.idle": "2022-09-22T13:05:10.577136Z",
     "shell.execute_reply": "2022-09-22T13:05:10.576227Z",
     "shell.execute_reply.started": "2022-09-22T13:05:09.790994Z"
    }
   },
   "outputs": [
    {
     "data": {
      "text/plain": [
       "((2216327, 20), (554082, 20))"
      ]
     },
     "execution_count": 35,
     "metadata": {},
     "output_type": "execute_result"
    }
   ],
   "source": [
    "# the scaler - for robust scaling\n",
    "from sklearn.preprocessing import Normalizer\n",
    "\n",
    "# set up the scaler \n",
    "scaler = Normalizer(norm='l1')\n",
    "# reset the index\n",
    "X_train = X_train.reset_index(drop=True)\n",
    "X_test = X_test.reset_index(drop=True)\n",
    "# fit the scaler\n",
    "scaler.fit(X_train)\n",
    "\n",
    "X_train_scaled = scaler.transform(X_train)\n",
    "X_test_scaled = scaler.transform(X_test)\n",
    "\n",
    "# transform numpy arrays to dataframe\n",
    "X_train_scaled = pd.DataFrame(X_train_scaled, \n",
    "                              columns=X_train.columns)\n",
    "X_test_scaled = pd.DataFrame(X_test_scaled,\n",
    "                            columns=X_test.columns)\n",
    "# crete a new dataframe which contains only the scaled features\n",
    "X_train_scaled.columns = [str(col) + '_scaled' for col in \n",
    "                          X_train_scaled.columns]\n",
    "X_test_scaled.columns = [str(col) + '_scaled' for col in \n",
    "                          X_test_scaled.columns]\n",
    "# Finally concatenating the normal and scaled features.\n",
    "X_train = pd.concat([X_train.reset_index(drop=True),\n",
    "                          X_train_scaled.reset_index(drop=True)],\n",
    "                         axis=1)\n",
    "X_test = pd.concat([X_test.reset_index(drop=True),\n",
    "                         X_test_scaled.reset_index(drop=True)],\n",
    "                        axis=1)\n",
    "X_train.shape, X_test.shape"
   ]
  },
  {
   "cell_type": "markdown",
   "metadata": {},
   "source": [
    "Cheking for null values in each column of train and test data."
   ]
  },
  {
   "cell_type": "code",
   "execution_count": 36,
   "metadata": {
    "execution": {
     "iopub.execute_input": "2022-09-22T13:05:10.578957Z",
     "iopub.status.busy": "2022-09-22T13:05:10.578616Z",
     "iopub.status.idle": "2022-09-22T13:05:10.656485Z",
     "shell.execute_reply": "2022-09-22T13:05:10.655522Z",
     "shell.execute_reply.started": "2022-09-22T13:05:10.578922Z"
    }
   },
   "outputs": [],
   "source": [
    "for col in X_train.columns:\n",
    "    if X_train[col].isnull().sum()>0:\n",
    "        print(col)"
   ]
  },
  {
   "cell_type": "code",
   "execution_count": 37,
   "metadata": {
    "execution": {
     "iopub.execute_input": "2022-09-22T13:05:10.658232Z",
     "iopub.status.busy": "2022-09-22T13:05:10.657841Z",
     "iopub.status.idle": "2022-09-22T13:05:10.685917Z",
     "shell.execute_reply": "2022-09-22T13:05:10.685056Z",
     "shell.execute_reply.started": "2022-09-22T13:05:10.658179Z"
    }
   },
   "outputs": [],
   "source": [
    "for col in X_test.columns:\n",
    "    if X_test[col].isnull().sum()>0:\n",
    "        print(col)"
   ]
  },
  {
   "cell_type": "code",
   "execution_count": 38,
   "metadata": {
    "execution": {
     "iopub.execute_input": "2022-09-22T13:05:10.687745Z",
     "iopub.status.busy": "2022-09-22T13:05:10.687377Z",
     "iopub.status.idle": "2022-09-22T13:05:17.453214Z",
     "shell.execute_reply": "2022-09-22T13:05:17.452184Z",
     "shell.execute_reply.started": "2022-09-22T13:05:10.687711Z"
    }
   },
   "outputs": [],
   "source": [
    "# remove constant and quasi-constant features\n",
    "\n",
    "quasi_constant_feat = []\n",
    "\n",
    "for feature in X_train.columns:\n",
    "    # seeing the type of values present in each column\n",
    "    predominant = (X_train[feature].value_counts()/np.float(\n",
    "        len(X_train))).sort_values(ascending=False).values[\n",
    "        0]\n",
    "    # if a column is filled with same value 99.8% of the time, then those columns are quasi constant\n",
    "    if predominant > 0.998:\n",
    "        quasi_constant_feat.append(feature)\n",
    "# quasi constant columns may reduce the accuracy of our model so removing them from input        \n",
    "X_train.drop(columns=quasi_constant_feat, inplace=True)\n",
    "X_test.drop(columns=quasi_constant_feat, inplace=True)"
   ]
  },
  {
   "cell_type": "code",
   "execution_count": 39,
   "metadata": {
    "execution": {
     "iopub.execute_input": "2022-09-22T13:05:17.455103Z",
     "iopub.status.busy": "2022-09-22T13:05:17.454735Z",
     "iopub.status.idle": "2022-09-22T13:05:17.461222Z",
     "shell.execute_reply": "2022-09-22T13:05:17.460327Z",
     "shell.execute_reply.started": "2022-09-22T13:05:17.455066Z"
    }
   },
   "outputs": [
    {
     "data": {
      "text/plain": [
       "['rec_cus_name_initial', 'rec_cus_name_initial_scaled']"
      ]
     },
     "execution_count": 39,
     "metadata": {},
     "output_type": "execute_result"
    }
   ],
   "source": [
    "quasi_constant_feat"
   ]
  },
  {
   "cell_type": "code",
   "execution_count": 40,
   "metadata": {
    "execution": {
     "iopub.execute_input": "2022-09-22T13:05:17.463311Z",
     "iopub.status.busy": "2022-09-22T13:05:17.462706Z",
     "iopub.status.idle": "2022-09-22T13:05:17.475071Z",
     "shell.execute_reply": "2022-09-22T13:05:17.474171Z",
     "shell.execute_reply.started": "2022-09-22T13:05:17.463274Z"
    }
   },
   "outputs": [
    {
     "data": {
      "text/plain": [
       "((2216327, 18), (554082, 18))"
      ]
     },
     "execution_count": 40,
     "metadata": {},
     "output_type": "execute_result"
    }
   ],
   "source": [
    "# shape of train and test data after removing constant and quasi constant features\n",
    "X_train.shape, X_test.shape"
   ]
  },
  {
   "cell_type": "code",
   "execution_count": 41,
   "metadata": {
    "execution": {
     "iopub.execute_input": "2022-09-22T13:05:17.476986Z",
     "iopub.status.busy": "2022-09-22T13:05:17.476568Z",
     "iopub.status.idle": "2022-09-22T13:05:18.279654Z",
     "shell.execute_reply": "2022-09-22T13:05:18.278561Z",
     "shell.execute_reply.started": "2022-09-22T13:05:17.476951Z"
    }
   },
   "outputs": [
    {
     "name": "stdout",
     "output_type": "stream",
     "text": [
      "0\n",
      "10\n"
     ]
    },
    {
     "data": {
      "text/plain": [
       "((2216327, 18), (554082, 18))"
      ]
     },
     "execution_count": 41,
     "metadata": {},
     "output_type": "execute_result"
    }
   ],
   "source": [
    "# remove duplicated features\n",
    "\n",
    "duplicated_feat = []\n",
    "for i in range(0, len(X_train.columns)):\n",
    "    if i%10 == 0:\n",
    "        # printing i to see where the loop is currently iterating\n",
    "        print(i)\n",
    "        \n",
    "    col_1 = X_train.columns[i]\n",
    "    for col_2 in X_train.columns[i+1:]:\n",
    "        # if two columns are duplicates of each other, then storing the name of second columnin duplicated_feat\n",
    "        if X_train[col_1].equals(X_train[col_2]):\n",
    "            duplicated_feat.append(col_2)\n",
    "            \n",
    "# dropping duplicated features            \n",
    "X_train.drop(columns=duplicated_feat, inplace=True)\n",
    "X_test.drop(columns=duplicated_feat, inplace=True)\n",
    "X_train.shape, X_test.shape"
   ]
  },
  {
   "cell_type": "code",
   "execution_count": 42,
   "metadata": {
    "execution": {
     "iopub.execute_input": "2022-09-22T13:05:18.281541Z",
     "iopub.status.busy": "2022-09-22T13:05:18.281074Z",
     "iopub.status.idle": "2022-09-22T13:05:20.286816Z",
     "shell.execute_reply": "2022-09-22T13:05:20.285712Z",
     "shell.execute_reply.started": "2022-09-22T13:05:18.281504Z"
    }
   },
   "outputs": [
    {
     "name": "stdout",
     "output_type": "stream",
     "text": [
      "correlated features:  4\n"
     ]
    },
    {
     "data": {
      "text/plain": [
       "((2216327, 14), (554082, 14))"
      ]
     },
     "execution_count": 42,
     "metadata": {},
     "output_type": "execute_result"
    }
   ],
   "source": [
    "# remove correlated features to reduce the feature space\n",
    "\n",
    "def correlation(dataset, threshold):\n",
    "    # set of all the names of correlated columns\n",
    "    col_corr = set()\n",
    "    corr_matrix = dataset.corr()\n",
    "    for i in range(len(corr_matrix.columns)):\n",
    "        for j in range(i):\n",
    "            # if two columns are correlated more than threshold value, then storing those columns\n",
    "            if abs(corr_matrix.iloc[i,j]) > threshold:\n",
    "                colname = corr_matrix.columns[i]\n",
    "                col_corr.add(colname)\n",
    "    return col_corr\n",
    "# the threshold value is 0.8\n",
    "corr_features = correlation(X_train, 0.8)\n",
    "print('correlated features: ', len(set(corr_features)))\n",
    "\n",
    "# if two columns are correlated to each other more than 80%, then dropping one of them\n",
    "X_train = X_train.drop(columns=corr_features)\n",
    "X_test = X_test.drop(columns=corr_features)\n",
    "X_train.shape, X_test.shape"
   ]
  },
  {
   "cell_type": "code",
   "execution_count": 49,
   "metadata": {
    "execution": {
     "iopub.execute_input": "2022-09-22T13:15:06.536948Z",
     "iopub.status.busy": "2022-09-22T13:15:06.536190Z",
     "iopub.status.idle": "2022-09-22T13:15:08.098699Z",
     "shell.execute_reply": "2022-09-22T13:15:08.097765Z",
     "shell.execute_reply.started": "2022-09-22T13:15:06.536906Z"
    }
   },
   "outputs": [
    {
     "data": {
      "image/png": "[encoded data removed]",
      "text/plain": [
       "<Figure size 864x432 with 2 Axes>"
      ]
     },
     "metadata": {
      "needs_background": "light"
     },
     "output_type": "display_data"
    }
   ],
   "source": [
    "from matplotlib.pyplot import figure\n",
    "# setting the size of figure\n",
    "figure(figsize=(12, 6))\n",
    "dataplot = sns.heatmap(X_train.corr())\n",
    "plt.show()"
   ]
  },
  {
   "cell_type": "code",
   "execution_count": 43,
   "metadata": {
    "execution": {
     "iopub.execute_input": "2022-09-22T13:05:20.288758Z",
     "iopub.status.busy": "2022-09-22T13:05:20.288302Z",
     "iopub.status.idle": "2022-09-22T13:05:20.296440Z",
     "shell.execute_reply": "2022-09-22T13:05:20.295346Z",
     "shell.execute_reply.started": "2022-09-22T13:05:20.288718Z"
    }
   },
   "outputs": [
    {
     "data": {
      "text/plain": [
       "{'error_balance_orig_cus',\n",
       " 'error_balance_orig_cus_scaled',\n",
       " 'new_balance_rec_cus',\n",
       " 'old_balance_rec_cus_scaled'}"
      ]
     },
     "execution_count": 43,
     "metadata": {},
     "output_type": "execute_result"
    }
   ],
   "source": [
    "corr_features"
   ]
  },
  {
   "cell_type": "code",
   "execution_count": 44,
   "metadata": {
    "execution": {
     "iopub.execute_input": "2022-09-22T13:05:20.298370Z",
     "iopub.status.busy": "2022-09-22T13:05:20.297939Z",
     "iopub.status.idle": "2022-09-22T13:05:20.322618Z",
     "shell.execute_reply": "2022-09-22T13:05:20.321725Z",
     "shell.execute_reply.started": "2022-09-22T13:05:20.298334Z"
    }
   },
   "outputs": [
    {
     "data": {
      "text/html": [
       "<div>\n",
       "<style scoped>\n",
       "    .dataframe tbody tr th:only-of-type {\n",
       "        vertical-align: middle;\n",
       "    }\n",
       "\n",
       "    .dataframe tbody tr th {\n",
       "        vertical-align: top;\n",
       "    }\n",
       "\n",
       "    .dataframe thead th {\n",
       "        text-align: right;\n",
       "    }\n",
       "</style>\n",
       "<table border=\"1\" class=\"dataframe\">\n",
       "  <thead>\n",
       "    <tr style=\"text-align: right;\">\n",
       "      <th></th>\n",
       "      <th>step</th>\n",
       "      <th>type</th>\n",
       "      <th>amount</th>\n",
       "      <th>old_balance_orig_cus</th>\n",
       "      <th>new_balance_orig_cus</th>\n",
       "      <th>old_balance_rec_cus</th>\n",
       "      <th>error_balance_rec_cus</th>\n",
       "      <th>step_scaled</th>\n",
       "      <th>type_scaled</th>\n",
       "      <th>amount_scaled</th>\n",
       "      <th>old_balance_orig_cus_scaled</th>\n",
       "      <th>new_balance_orig_cus_scaled</th>\n",
       "      <th>new_balance_rec_cus_scaled</th>\n",
       "      <th>error_balance_rec_cus_scaled</th>\n",
       "    </tr>\n",
       "  </thead>\n",
       "  <tbody>\n",
       "    <tr>\n",
       "      <th>0</th>\n",
       "      <td>181</td>\n",
       "      <td>0</td>\n",
       "      <td>159455.68</td>\n",
       "      <td>41098.0</td>\n",
       "      <td>0.0</td>\n",
       "      <td>892562.91</td>\n",
       "      <td>0.00</td>\n",
       "      <td>0.000080</td>\n",
       "      <td>0.000000e+00</td>\n",
       "      <td>0.070441</td>\n",
       "      <td>0.018155</td>\n",
       "      <td>0.000000</td>\n",
       "      <td>0.464739</td>\n",
       "      <td>0.000000e+00</td>\n",
       "    </tr>\n",
       "    <tr>\n",
       "      <th>1</th>\n",
       "      <td>157</td>\n",
       "      <td>0</td>\n",
       "      <td>243738.00</td>\n",
       "      <td>0.0</td>\n",
       "      <td>0.0</td>\n",
       "      <td>708406.29</td>\n",
       "      <td>112690.57</td>\n",
       "      <td>0.000073</td>\n",
       "      <td>0.000000e+00</td>\n",
       "      <td>0.113462</td>\n",
       "      <td>0.000000</td>\n",
       "      <td>0.000000</td>\n",
       "      <td>0.390774</td>\n",
       "      <td>5.245854e-02</td>\n",
       "    </tr>\n",
       "    <tr>\n",
       "      <th>2</th>\n",
       "      <td>356</td>\n",
       "      <td>0</td>\n",
       "      <td>422174.92</td>\n",
       "      <td>7830.0</td>\n",
       "      <td>0.0</td>\n",
       "      <td>0.00</td>\n",
       "      <td>0.00</td>\n",
       "      <td>0.000281</td>\n",
       "      <td>0.000000e+00</td>\n",
       "      <td>0.333240</td>\n",
       "      <td>0.006181</td>\n",
       "      <td>0.000000</td>\n",
       "      <td>0.333240</td>\n",
       "      <td>0.000000e+00</td>\n",
       "    </tr>\n",
       "    <tr>\n",
       "      <th>3</th>\n",
       "      <td>304</td>\n",
       "      <td>1</td>\n",
       "      <td>155933.27</td>\n",
       "      <td>0.0</td>\n",
       "      <td>0.0</td>\n",
       "      <td>2101464.64</td>\n",
       "      <td>0.01</td>\n",
       "      <td>0.000065</td>\n",
       "      <td>2.140854e-07</td>\n",
       "      <td>0.033383</td>\n",
       "      <td>0.000000</td>\n",
       "      <td>0.000000</td>\n",
       "      <td>0.483276</td>\n",
       "      <td>2.140854e-09</td>\n",
       "    </tr>\n",
       "    <tr>\n",
       "      <th>4</th>\n",
       "      <td>375</td>\n",
       "      <td>1</td>\n",
       "      <td>152304.10</td>\n",
       "      <td>252972.0</td>\n",
       "      <td>100667.9</td>\n",
       "      <td>2756971.82</td>\n",
       "      <td>0.00</td>\n",
       "      <td>0.000061</td>\n",
       "      <td>1.620071e-07</td>\n",
       "      <td>0.024674</td>\n",
       "      <td>0.040983</td>\n",
       "      <td>0.016309</td>\n",
       "      <td>0.471323</td>\n",
       "      <td>0.000000e+00</td>\n",
       "    </tr>\n",
       "  </tbody>\n",
       "</table>\n",
       "</div>"
      ],
      "text/plain": [
       "   step  type     amount  old_balance_orig_cus  new_balance_orig_cus  \\\n",
       "0   181     0  159455.68               41098.0                   0.0   \n",
       "1   157     0  243738.00                   0.0                   0.0   \n",
       "2   356     0  422174.92                7830.0                   0.0   \n",
       "3   304     1  155933.27                   0.0                   0.0   \n",
       "4   375     1  152304.10              252972.0              100667.9   \n",
       "\n",
       "   old_balance_rec_cus  error_balance_rec_cus  step_scaled   type_scaled  \\\n",
       "0            892562.91                   0.00     0.000080  0.000000e+00   \n",
       "1            708406.29              112690.57     0.000073  0.000000e+00   \n",
       "2                 0.00                   0.00     0.000281  0.000000e+00   \n",
       "3           2101464.64                   0.01     0.000065  2.140854e-07   \n",
       "4           2756971.82                   0.00     0.000061  1.620071e-07   \n",
       "\n",
       "   amount_scaled  old_balance_orig_cus_scaled  new_balance_orig_cus_scaled  \\\n",
       "0       0.070441                     0.018155                     0.000000   \n",
       "1       0.113462                     0.000000                     0.000000   \n",
       "2       0.333240                     0.006181                     0.000000   \n",
       "3       0.033383                     0.000000                     0.000000   \n",
       "4       0.024674                     0.040983                     0.016309   \n",
       "\n",
       "   new_balance_rec_cus_scaled  error_balance_rec_cus_scaled  \n",
       "0                    0.464739                  0.000000e+00  \n",
       "1                    0.390774                  5.245854e-02  \n",
       "2                    0.333240                  0.000000e+00  \n",
       "3                    0.483276                  2.140854e-09  \n",
       "4                    0.471323                  0.000000e+00  "
      ]
     },
     "execution_count": 44,
     "metadata": {},
     "output_type": "execute_result"
    }
   ],
   "source": [
    "X_train.head()"
   ]
  },
  {
   "cell_type": "code",
   "execution_count": 45,
   "metadata": {
    "execution": {
     "iopub.execute_input": "2022-09-22T13:05:20.324074Z",
     "iopub.status.busy": "2022-09-22T13:05:20.323735Z",
     "iopub.status.idle": "2022-09-22T13:13:06.995565Z",
     "shell.execute_reply": "2022-09-22T13:13:06.994393Z",
     "shell.execute_reply.started": "2022-09-22T13:05:20.324038Z"
    }
   },
   "outputs": [
    {
     "name": "stdout",
     "output_type": "stream",
     "text": [
      "AUPRC = 0.9822038464784253\n"
     ]
    }
   ],
   "source": [
    "# we are using XG Boost classifier model\n",
    "model = XGBClassifier()\n",
    "y_pred = model.fit(X_train, y_train).predict_proba(X_test)\n",
    "print('Test AUPRC = {}'.format(average_precision_score(y_test, y_pred[:,1])))"
   ]
  },
  {
   "cell_type": "code",
   "execution_count": 52,
   "metadata": {
    "execution": {
     "iopub.execute_input": "2022-09-22T13:35:18.725973Z",
     "iopub.status.busy": "2022-09-22T13:35:18.725580Z",
     "iopub.status.idle": "2022-09-22T13:35:23.817034Z",
     "shell.execute_reply": "2022-09-22T13:35:23.815899Z",
     "shell.execute_reply.started": "2022-09-22T13:35:18.725942Z"
    }
   },
   "outputs": [
    {
     "name": "stdout",
     "output_type": "stream",
     "text": [
      "Train AUPRC = 0.9985625339176798\n"
     ]
    }
   ],
   "source": [
    "y_train_pred = model.predict_proba(X_train)\n",
    "print('Train AUPRC = {}'.format(average_precision_score(y_train, y_train_pred[:,1])))"
   ]
  },
  {
   "cell_type": "code",
   "execution_count": 63,
   "metadata": {
    "execution": {
     "iopub.execute_input": "2022-09-22T15:27:22.588070Z",
     "iopub.status.busy": "2022-09-22T15:27:22.587714Z",
     "iopub.status.idle": "2022-09-22T15:27:22.594615Z",
     "shell.execute_reply": "2022-09-22T15:27:22.593322Z",
     "shell.execute_reply.started": "2022-09-22T15:27:22.588039Z"
    }
   },
   "outputs": [
    {
     "data": {
      "text/plain": [
       "array([0, 1])"
      ]
     },
     "execution_count": 63,
     "metadata": {},
     "output_type": "execute_result"
    }
   ],
   "source": [
    "model.classes_"
   ]
  },
  {
   "cell_type": "code",
   "execution_count": 71,
   "metadata": {
    "execution": {
     "iopub.execute_input": "2022-09-22T15:37:38.161976Z",
     "iopub.status.busy": "2022-09-22T15:37:38.161571Z",
     "iopub.status.idle": "2022-09-22T15:37:39.394091Z",
     "shell.execute_reply": "2022-09-22T15:37:39.393119Z",
     "shell.execute_reply.started": "2022-09-22T15:37:38.161944Z"
    }
   },
   "outputs": [
    {
     "data": {
      "image/png": "[encoded data removed]",
      "text/plain": [
       "<Figure size 720x432 with 2 Axes>"
      ]
     },
     "metadata": {
      "needs_background": "light"
     },
     "output_type": "display_data"
    }
   ],
   "source": [
    "from sklearn.metrics import classification_report, confusion_matrix, ConfusionMatrixDisplay\n",
    "\n",
    "pred_probability = model.predict(X_test)\n",
    "predictions = pred_probability > 0.5\n",
    "\n",
    "plt.figure(figsize=(10,6))\n",
    "plt.title('Confusion Matrix', size=20, weight='bold')\n",
    "sns.heatmap(\n",
    "     confusion_matrix(y_test, pred_probability, labels=model.classes_),\n",
    "     annot=True,\n",
    "     annot_kws={'size':14, 'weight': 'bold'},\n",
    "     fmt='d',\n",
    "     xticklabels=['Non Fraud', 'Fraud'],\n",
    "     yticklabels=['Non Fraud', 'Fraud'])\n",
    "plt.tick_params(axis='both', labelsize=14)\n",
    "plt.ylabel('Actual', size=14, weight='bold')\n",
    "plt.xlabel('Predicted', size=14, weight='bold')\n",
    "plt.show()"
   ]
  },
  {
   "cell_type": "code",
   "execution_count": 72,
   "metadata": {
    "execution": {
     "iopub.execute_input": "2022-09-22T15:43:29.244634Z",
     "iopub.status.busy": "2022-09-22T15:43:29.243783Z",
     "iopub.status.idle": "2022-09-22T15:43:29.981187Z",
     "shell.execute_reply": "2022-09-22T15:43:29.980264Z",
     "shell.execute_reply.started": "2022-09-22T15:43:29.244593Z"
    }
   },
   "outputs": [
    {
     "name": "stdout",
     "output_type": "stream",
     "text": [
      "              precision    recall  f1-score   support\n",
      "\n",
      "           0       1.00      1.00      1.00    552451\n",
      "           1       0.98      0.90      0.94      1631\n",
      "\n",
      "    accuracy                           1.00    554082\n",
      "   macro avg       0.99      0.95      0.97    554082\n",
      "weighted avg       1.00      1.00      1.00    554082\n",
      "\n"
     ]
    }
   ],
   "source": [
    "# 0 is non fraud and 1 is fraud\n",
    "print(classification_report(y_test, pred_probability, labels=model.classes_))"
   ]
  },
  {
   "cell_type": "code",
   "execution_count": 46,
   "metadata": {
    "execution": {
     "iopub.execute_input": "2022-09-22T13:13:06.997697Z",
     "iopub.status.busy": "2022-09-22T13:13:06.997319Z",
     "iopub.status.idle": "2022-09-22T13:13:07.270215Z",
     "shell.execute_reply": "2022-09-22T13:13:07.269169Z",
     "shell.execute_reply.started": "2022-09-22T13:13:06.997660Z"
    }
   },
   "outputs": [
    {
     "data": {
      "image/png": "[encoded data removed]",
      "text/plain": [
       "<Figure size 1440x432 with 1 Axes>"
      ]
     },
     "metadata": {
      "needs_background": "light"
     },
     "output_type": "display_data"
    }
   ],
   "source": [
    "features = pd.Series(model.feature_importances_)\n",
    "features.index = X_train.columns\n",
    "\n",
    "# sort the features by importance\n",
    "features.sort_values(ascending=True, inplace=True)\n",
    "\n",
    "# plot\n",
    "features.plot.bar(figsize=(20,6))\n",
    "plt.xlabel('Features')\n",
    "plt.ylabel('Importnace')\n",
    "plt.show()"
   ]
  },
  {
   "cell_type": "code",
   "execution_count": 47,
   "metadata": {
    "execution": {
     "iopub.execute_input": "2022-09-22T13:13:07.272775Z",
     "iopub.status.busy": "2022-09-22T13:13:07.272093Z",
     "iopub.status.idle": "2022-09-22T13:13:08.275375Z",
     "shell.execute_reply": "2022-09-22T13:13:08.274234Z",
     "shell.execute_reply.started": "2022-09-22T13:13:07.272737Z"
    }
   },
   "outputs": [
    {
     "data": {
      "image/svg+xml": [
       "<?xml version=\"1.0\" encoding=\"UTF-8\" standalone=\"no\"?>\n",
       "<!DOCTYPE svg PUBLIC \"-//W3C//DTD SVG 1.1//EN\"\n",
       " \"http://www.w3.org/Graphics/SVG/1.1/DTD/svg11.dtd\">\n",
       "<!-- Generated by graphviz version 5.0.0 (20220707.2338)\n",
       " -->\n",
       "<!-- Pages: 1 -->\n",
       "<svg width=\"3496pt\" height=\"566pt\"\n",
       " viewBox=\"0.00 0.00 3495.68 566.00\" xmlns=\"http://www.w3.org/2000/svg\" xmlns:xlink=\"http://www.w3.org/1999/xlink\">\n",
       "<g id=\"graph0\" class=\"graph\" transform=\"scale(1 1) rotate(0) translate(4 562)\">\n",
       "<polygon fill=\"white\" stroke=\"transparent\" points=\"-4,4 -4,-562 3491.68,-562 3491.68,4 -4,4\"/>\n",
       "<!-- 0 -->\n",
       "<g id=\"node1\" class=\"node\">\n",
       "<title>0</title>\n",
       "<ellipse fill=\"none\" stroke=\"black\" cx=\"2086.84\" cy=\"-540\" rx=\"170.87\" ry=\"18\"/>\n",
       "<text text-anchor=\"middle\" x=\"2086.84\" y=\"-536.3\" font-family=\"Times,serif\" font-size=\"14.00\">old_balance_orig_cus&lt;1454146.25</text>\n",
       "</g>\n",
       "<!-- 1 -->\n",
       "<g id=\"node2\" class=\"node\">\n",
       "<title>1</title>\n",
       "<ellipse fill=\"none\" stroke=\"black\" cx=\"1910.84\" cy=\"-453\" rx=\"225.56\" ry=\"18\"/>\n",
       "<text text-anchor=\"middle\" x=\"1910.84\" y=\"-449.3\" font-family=\"Times,serif\" font-size=\"14.00\">new_balance_rec_cus_scaled&lt;4.12366262e&#45;06</text>\n",
       "</g>\n",
       "<!-- 0&#45;&gt;1 -->\n",
       "<g id=\"edge1\" class=\"edge\">\n",
       "<title>0&#45;&gt;1</title>\n",
       "<path fill=\"none\" stroke=\"#0000ff\" d=\"M2052.07,-522.21C2024.2,-508.75 1984.92,-489.77 1954.85,-475.26\"/>\n",
       "<polygon fill=\"#0000ff\" stroke=\"#0000ff\" points=\"1956.37,-472.1 1945.84,-470.9 1953.32,-478.4 1956.37,-472.1\"/>\n",
       "<text text-anchor=\"middle\" x=\"2054.34\" y=\"-492.8\" font-family=\"Times,serif\" font-size=\"14.00\">yes, missing</text>\n",
       "</g>\n",
       "<!-- 2 -->\n",
       "<g id=\"node3\" class=\"node\">\n",
       "<title>2</title>\n",
       "<ellipse fill=\"none\" stroke=\"black\" cx=\"2304.84\" cy=\"-453\" rx=\"109.38\" ry=\"18\"/>\n",
       "<text text-anchor=\"middle\" x=\"2304.84\" y=\"-449.3\" font-family=\"Times,serif\" font-size=\"14.00\">amount&lt;1449238.25</text>\n",
       "</g>\n",
       "<!-- 0&#45;&gt;2 -->\n",
       "<g id=\"edge2\" class=\"edge\">\n",
       "<title>0&#45;&gt;2</title>\n",
       "<path fill=\"none\" stroke=\"#ff0000\" d=\"M2129.13,-522.51C2165.09,-508.49 2216.78,-488.34 2254.79,-473.51\"/>\n",
       "<polygon fill=\"#ff0000\" stroke=\"#ff0000\" points=\"2256.1,-476.76 2264.14,-469.87 2253.56,-470.24 2256.1,-476.76\"/>\n",
       "<text text-anchor=\"middle\" x=\"2218.84\" y=\"-492.8\" font-family=\"Times,serif\" font-size=\"14.00\">no</text>\n",
       "</g>\n",
       "<!-- 3 -->\n",
       "<g id=\"node4\" class=\"node\">\n",
       "<title>3</title>\n",
       "<ellipse fill=\"none\" stroke=\"black\" cx=\"1092.84\" cy=\"-366\" rx=\"53.89\" ry=\"18\"/>\n",
       "<text text-anchor=\"middle\" x=\"1092.84\" y=\"-362.3\" font-family=\"Times,serif\" font-size=\"14.00\">type&lt;0.5</text>\n",
       "</g>\n",
       "<!-- 1&#45;&gt;3 -->\n",
       "<g id=\"edge3\" class=\"edge\">\n",
       "<title>1&#45;&gt;3</title>\n",
       "<path fill=\"none\" stroke=\"#0000ff\" d=\"M1779.42,-438.34C1600.01,-419.7 1285.7,-387.04 1153.82,-373.34\"/>\n",
       "<polygon fill=\"#0000ff\" stroke=\"#0000ff\" points=\"1153.82,-369.82 1143.51,-372.26 1153.09,-376.78 1153.82,-369.82\"/>\n",
       "<text text-anchor=\"middle\" x=\"1595.34\" y=\"-405.8\" font-family=\"Times,serif\" font-size=\"14.00\">yes, missing</text>\n",
       "</g>\n",
       "<!-- 4 -->\n",
       "<g id=\"node5\" class=\"node\">\n",
       "<title>4</title>\n",
       "<ellipse fill=\"none\" stroke=\"black\" cx=\"1910.84\" cy=\"-366\" rx=\"64.99\" ry=\"18\"/>\n",
       "<text text-anchor=\"middle\" x=\"1910.84\" y=\"-362.3\" font-family=\"Times,serif\" font-size=\"14.00\">step&lt;718.5</text>\n",
       "</g>\n",
       "<!-- 1&#45;&gt;4 -->\n",
       "<g id=\"edge4\" class=\"edge\">\n",
       "<title>1&#45;&gt;4</title>\n",
       "<path fill=\"none\" stroke=\"#ff0000\" d=\"M1910.84,-434.8C1910.84,-423.16 1910.84,-407.55 1910.84,-394.24\"/>\n",
       "<polygon fill=\"#ff0000\" stroke=\"#ff0000\" points=\"1914.34,-394.18 1910.84,-384.18 1907.34,-394.18 1914.34,-394.18\"/>\n",
       "<text text-anchor=\"middle\" x=\"1919.84\" y=\"-405.8\" font-family=\"Times,serif\" font-size=\"14.00\">no</text>\n",
       "</g>\n",
       "<!-- 5 -->\n",
       "<g id=\"node34\" class=\"node\">\n",
       "<title>5</title>\n",
       "<ellipse fill=\"none\" stroke=\"black\" cx=\"2304.84\" cy=\"-366\" rx=\"55.79\" ry=\"18\"/>\n",
       "<text text-anchor=\"middle\" x=\"2304.84\" y=\"-362.3\" font-family=\"Times,serif\" font-size=\"14.00\">step&lt;400</text>\n",
       "</g>\n",
       "<!-- 2&#45;&gt;5 -->\n",
       "<g id=\"edge33\" class=\"edge\">\n",
       "<title>2&#45;&gt;5</title>\n",
       "<path fill=\"none\" stroke=\"#0000ff\" d=\"M2304.84,-434.8C2304.84,-423.16 2304.84,-407.55 2304.84,-394.24\"/>\n",
       "<polygon fill=\"#0000ff\" stroke=\"#0000ff\" points=\"2308.34,-394.18 2304.84,-384.18 2301.34,-394.18 2308.34,-394.18\"/>\n",
       "<text text-anchor=\"middle\" x=\"2349.34\" y=\"-405.8\" font-family=\"Times,serif\" font-size=\"14.00\">yes, missing</text>\n",
       "</g>\n",
       "<!-- 6 -->\n",
       "<g id=\"node35\" class=\"node\">\n",
       "<title>6</title>\n",
       "<ellipse fill=\"none\" stroke=\"black\" cx=\"2834.84\" cy=\"-366\" rx=\"59.29\" ry=\"18\"/>\n",
       "<text text-anchor=\"middle\" x=\"2834.84\" y=\"-362.3\" font-family=\"Times,serif\" font-size=\"14.00\">step&lt;13.5</text>\n",
       "</g>\n",
       "<!-- 2&#45;&gt;6 -->\n",
       "<g id=\"edge34\" class=\"edge\">\n",
       "<title>2&#45;&gt;6</title>\n",
       "<path fill=\"none\" stroke=\"#ff0000\" d=\"M2380.21,-439.91C2485.93,-422.96 2676.2,-392.44 2773.66,-376.81\"/>\n",
       "<polygon fill=\"#ff0000\" stroke=\"#ff0000\" points=\"2774.33,-380.25 2783.65,-375.21 2773.22,-373.34 2774.33,-380.25\"/>\n",
       "<text text-anchor=\"middle\" x=\"2610.84\" y=\"-405.8\" font-family=\"Times,serif\" font-size=\"14.00\">no</text>\n",
       "</g>\n",
       "<!-- 7 -->\n",
       "<g id=\"node6\" class=\"node\">\n",
       "<title>7</title>\n",
       "<ellipse fill=\"none\" stroke=\"black\" cx=\"742.84\" cy=\"-279\" rx=\"117.78\" ry=\"18\"/>\n",
       "<text text-anchor=\"middle\" x=\"742.84\" y=\"-275.3\" font-family=\"Times,serif\" font-size=\"14.00\">old_balance_rec_cus&lt;4</text>\n",
       "</g>\n",
       "<!-- 3&#45;&gt;7 -->\n",
       "<g id=\"edge5\" class=\"edge\">\n",
       "<title>3&#45;&gt;7</title>\n",
       "<path fill=\"none\" stroke=\"#0000ff\" d=\"M1050.62,-354.75C991.58,-340.41 883.63,-314.19 812.55,-296.93\"/>\n",
       "<polygon fill=\"#0000ff\" stroke=\"#0000ff\" points=\"813.32,-293.52 802.78,-294.56 811.67,-300.32 813.32,-293.52\"/>\n",
       "<text text-anchor=\"middle\" x=\"983.34\" y=\"-318.8\" font-family=\"Times,serif\" font-size=\"14.00\">yes, missing</text>\n",
       "</g>\n",
       "<!-- 8 -->\n",
       "<g id=\"node7\" class=\"node\">\n",
       "<title>8</title>\n",
       "<ellipse fill=\"none\" stroke=\"black\" cx=\"1092.84\" cy=\"-279\" rx=\"115.08\" ry=\"18\"/>\n",
       "<text text-anchor=\"middle\" x=\"1092.84\" y=\"-275.3\" font-family=\"Times,serif\" font-size=\"14.00\">amount&lt;0.185000002</text>\n",
       "</g>\n",
       "<!-- 3&#45;&gt;8 -->\n",
       "<g id=\"edge6\" class=\"edge\">\n",
       "<title>3&#45;&gt;8</title>\n",
       "<path fill=\"none\" stroke=\"#ff0000\" d=\"M1092.84,-347.8C1092.84,-336.16 1092.84,-320.55 1092.84,-307.24\"/>\n",
       "<polygon fill=\"#ff0000\" stroke=\"#ff0000\" points=\"1096.34,-307.18 1092.84,-297.18 1089.34,-307.18 1096.34,-307.18\"/>\n",
       "<text text-anchor=\"middle\" x=\"1101.84\" y=\"-318.8\" font-family=\"Times,serif\" font-size=\"14.00\">no</text>\n",
       "</g>\n",
       "<!-- 9 -->\n",
       "<g id=\"node20\" class=\"node\">\n",
       "<title>9</title>\n",
       "<ellipse fill=\"none\" stroke=\"black\" cx=\"1680.84\" cy=\"-279\" rx=\"170.87\" ry=\"18\"/>\n",
       "<text text-anchor=\"middle\" x=\"1680.84\" y=\"-275.3\" font-family=\"Times,serif\" font-size=\"14.00\">old_balance_orig_cus&lt;1010777.25</text>\n",
       "</g>\n",
       "<!-- 4&#45;&gt;9 -->\n",
       "<g id=\"edge19\" class=\"edge\">\n",
       "<title>4&#45;&gt;9</title>\n",
       "<path fill=\"none\" stroke=\"#0000ff\" d=\"M1873.38,-351.15C1835.74,-337.25 1777.38,-315.68 1734.77,-299.93\"/>\n",
       "<polygon fill=\"#0000ff\" stroke=\"#0000ff\" points=\"1735.98,-296.65 1725.39,-296.46 1733.55,-303.21 1735.98,-296.65\"/>\n",
       "<text text-anchor=\"middle\" x=\"1854.34\" y=\"-318.8\" font-family=\"Times,serif\" font-size=\"14.00\">yes, missing</text>\n",
       "</g>\n",
       "<!-- 10 -->\n",
       "<g id=\"node21\" class=\"node\">\n",
       "<title>10</title>\n",
       "<ellipse fill=\"none\" stroke=\"black\" cx=\"1966.84\" cy=\"-279\" rx=\"96.68\" ry=\"18\"/>\n",
       "<text text-anchor=\"middle\" x=\"1966.84\" y=\"-275.3\" font-family=\"Times,serif\" font-size=\"14.00\">leaf=0.574193537</text>\n",
       "</g>\n",
       "<!-- 4&#45;&gt;10 -->\n",
       "<g id=\"edge20\" class=\"edge\">\n",
       "<title>4&#45;&gt;10</title>\n",
       "<path fill=\"none\" stroke=\"#ff0000\" d=\"M1921.91,-348.21C1929.91,-336.06 1940.86,-319.43 1949.95,-305.63\"/>\n",
       "<polygon fill=\"#ff0000\" stroke=\"#ff0000\" points=\"1953.03,-307.33 1955.61,-297.05 1947.18,-303.47 1953.03,-307.33\"/>\n",
       "<text text-anchor=\"middle\" x=\"1951.84\" y=\"-318.8\" font-family=\"Times,serif\" font-size=\"14.00\">no</text>\n",
       "</g>\n",
       "<!-- 15 -->\n",
       "<g id=\"node8\" class=\"node\">\n",
       "<title>15</title>\n",
       "<ellipse fill=\"none\" stroke=\"black\" cx=\"413.84\" cy=\"-192\" rx=\"210.66\" ry=\"18\"/>\n",
       "<text text-anchor=\"middle\" x=\"413.84\" y=\"-188.3\" font-family=\"Times,serif\" font-size=\"14.00\">old_balance_orig_cus_scaled&lt;0.204287931</text>\n",
       "</g>\n",
       "<!-- 7&#45;&gt;15 -->\n",
       "<g id=\"edge7\" class=\"edge\">\n",
       "<title>7&#45;&gt;15</title>\n",
       "<path fill=\"none\" stroke=\"#0000ff\" d=\"M685.53,-263.19C630.25,-248.91 546.36,-227.24 486.43,-211.75\"/>\n",
       "<polygon fill=\"#0000ff\" stroke=\"#0000ff\" points=\"487.21,-208.34 476.66,-209.23 485.46,-215.12 487.21,-208.34\"/>\n",
       "<text text-anchor=\"middle\" x=\"643.34\" y=\"-231.8\" font-family=\"Times,serif\" font-size=\"14.00\">yes, missing</text>\n",
       "</g>\n",
       "<!-- 16 -->\n",
       "<g id=\"node9\" class=\"node\">\n",
       "<title>16</title>\n",
       "<ellipse fill=\"none\" stroke=\"black\" cx=\"742.84\" cy=\"-192\" rx=\"100.18\" ry=\"18\"/>\n",
       "<text text-anchor=\"middle\" x=\"742.84\" y=\"-188.3\" font-family=\"Times,serif\" font-size=\"14.00\">leaf=&#45;0.596938789</text>\n",
       "</g>\n",
       "<!-- 7&#45;&gt;16 -->\n",
       "<g id=\"edge8\" class=\"edge\">\n",
       "<title>7&#45;&gt;16</title>\n",
       "<path fill=\"none\" stroke=\"#ff0000\" d=\"M742.84,-260.8C742.84,-249.16 742.84,-233.55 742.84,-220.24\"/>\n",
       "<polygon fill=\"#ff0000\" stroke=\"#ff0000\" points=\"746.34,-220.18 742.84,-210.18 739.34,-220.18 746.34,-220.18\"/>\n",
       "<text text-anchor=\"middle\" x=\"751.84\" y=\"-231.8\" font-family=\"Times,serif\" font-size=\"14.00\">no</text>\n",
       "</g>\n",
       "<!-- 17 -->\n",
       "<g id=\"node16\" class=\"node\">\n",
       "<title>17</title>\n",
       "<ellipse fill=\"none\" stroke=\"black\" cx=\"957.84\" cy=\"-192\" rx=\"96.68\" ry=\"18\"/>\n",
       "<text text-anchor=\"middle\" x=\"957.84\" y=\"-188.3\" font-family=\"Times,serif\" font-size=\"14.00\">leaf=0.300000012</text>\n",
       "</g>\n",
       "<!-- 8&#45;&gt;17 -->\n",
       "<g id=\"edge15\" class=\"edge\">\n",
       "<title>8&#45;&gt;17</title>\n",
       "<path fill=\"none\" stroke=\"#0000ff\" d=\"M1066.49,-261.41C1045.4,-248.13 1015.64,-229.39 992.59,-214.88\"/>\n",
       "<polygon fill=\"#0000ff\" stroke=\"#0000ff\" points=\"994.45,-211.92 984.12,-209.55 990.72,-217.84 994.45,-211.92\"/>\n",
       "<text text-anchor=\"middle\" x=\"1078.34\" y=\"-231.8\" font-family=\"Times,serif\" font-size=\"14.00\">yes, missing</text>\n",
       "</g>\n",
       "<!-- 18 -->\n",
       "<g id=\"node17\" class=\"node\">\n",
       "<title>18</title>\n",
       "<ellipse fill=\"none\" stroke=\"black\" cx=\"1223.84\" cy=\"-192\" rx=\"151.37\" ry=\"18\"/>\n",
       "<text text-anchor=\"middle\" x=\"1223.84\" y=\"-188.3\" font-family=\"Times,serif\" font-size=\"14.00\">type_scaled&lt;0.000113771399</text>\n",
       "</g>\n",
       "<!-- 8&#45;&gt;18 -->\n",
       "<g id=\"edge16\" class=\"edge\">\n",
       "<title>8&#45;&gt;18</title>\n",
       "<path fill=\"none\" stroke=\"#ff0000\" d=\"M1118.41,-261.41C1138.66,-248.27 1167.13,-229.8 1189.39,-215.35\"/>\n",
       "<polygon fill=\"#ff0000\" stroke=\"#ff0000\" points=\"1191.41,-218.22 1197.89,-209.84 1187.6,-212.35 1191.41,-218.22\"/>\n",
       "<text text-anchor=\"middle\" x=\"1175.84\" y=\"-231.8\" font-family=\"Times,serif\" font-size=\"14.00\">no</text>\n",
       "</g>\n",
       "<!-- 25 -->\n",
       "<g id=\"node10\" class=\"node\">\n",
       "<title>25</title>\n",
       "<ellipse fill=\"none\" stroke=\"black\" cx=\"280.84\" cy=\"-105\" rx=\"148.67\" ry=\"18\"/>\n",
       "<text text-anchor=\"middle\" x=\"280.84\" y=\"-101.3\" font-family=\"Times,serif\" font-size=\"14.00\">amount_scaled&lt;0.266376793</text>\n",
       "</g>\n",
       "<!-- 15&#45;&gt;25 -->\n",
       "<g id=\"edge9\" class=\"edge\">\n",
       "<title>15&#45;&gt;25</title>\n",
       "<path fill=\"none\" stroke=\"#0000ff\" d=\"M387.25,-174C366.77,-160.92 338.28,-142.71 315.93,-128.43\"/>\n",
       "<polygon fill=\"#0000ff\" stroke=\"#0000ff\" points=\"317.7,-125.4 307.39,-122.97 313.93,-131.3 317.7,-125.4\"/>\n",
       "<text text-anchor=\"middle\" x=\"400.34\" y=\"-144.8\" font-family=\"Times,serif\" font-size=\"14.00\">yes, missing</text>\n",
       "</g>\n",
       "<!-- 26 -->\n",
       "<g id=\"node11\" class=\"node\">\n",
       "<title>26</title>\n",
       "<ellipse fill=\"none\" stroke=\"black\" cx=\"617.84\" cy=\"-105\" rx=\"170.07\" ry=\"18\"/>\n",
       "<text text-anchor=\"middle\" x=\"617.84\" y=\"-101.3\" font-family=\"Times,serif\" font-size=\"14.00\">new_balance_orig_cus&lt;4736.8252</text>\n",
       "</g>\n",
       "<!-- 15&#45;&gt;26 -->\n",
       "<g id=\"edge10\" class=\"edge\">\n",
       "<title>15&#45;&gt;26</title>\n",
       "<path fill=\"none\" stroke=\"#ff0000\" d=\"M454.15,-174.21C486.94,-160.54 533.37,-141.2 568.41,-126.6\"/>\n",
       "<polygon fill=\"#ff0000\" stroke=\"#ff0000\" points=\"570.08,-129.69 577.97,-122.61 567.39,-123.23 570.08,-129.69\"/>\n",
       "<text text-anchor=\"middle\" x=\"537.84\" y=\"-144.8\" font-family=\"Times,serif\" font-size=\"14.00\">no</text>\n",
       "</g>\n",
       "<!-- 39 -->\n",
       "<g id=\"node12\" class=\"node\">\n",
       "<title>39</title>\n",
       "<ellipse fill=\"none\" stroke=\"black\" cx=\"96.84\" cy=\"-18\" rx=\"96.68\" ry=\"18\"/>\n",
       "<text text-anchor=\"middle\" x=\"96.84\" y=\"-14.3\" font-family=\"Times,serif\" font-size=\"14.00\">leaf=0.300000012</text>\n",
       "</g>\n",
       "<!-- 25&#45;&gt;39 -->\n",
       "<g id=\"edge11\" class=\"edge\">\n",
       "<title>25&#45;&gt;39</title>\n",
       "<path fill=\"none\" stroke=\"#0000ff\" d=\"M242.97,-87.47C229.91,-81.71 215.2,-75.14 201.84,-69 181.03,-59.44 158.05,-48.53 138.9,-39.35\"/>\n",
       "<polygon fill=\"#0000ff\" stroke=\"#0000ff\" points=\"140.37,-36.17 129.84,-35 137.33,-42.48 140.37,-36.17\"/>\n",
       "<text text-anchor=\"middle\" x=\"246.34\" y=\"-57.8\" font-family=\"Times,serif\" font-size=\"14.00\">yes, missing</text>\n",
       "</g>\n",
       "<!-- 40 -->\n",
       "<g id=\"node13\" class=\"node\">\n",
       "<title>40</title>\n",
       "<ellipse fill=\"none\" stroke=\"black\" cx=\"311.84\" cy=\"-18\" rx=\"100.18\" ry=\"18\"/>\n",
       "<text text-anchor=\"middle\" x=\"311.84\" y=\"-14.3\" font-family=\"Times,serif\" font-size=\"14.00\">leaf=&#45;0.566666663</text>\n",
       "</g>\n",
       "<!-- 25&#45;&gt;40 -->\n",
       "<g id=\"edge12\" class=\"edge\">\n",
       "<title>25&#45;&gt;40</title>\n",
       "<path fill=\"none\" stroke=\"#ff0000\" d=\"M287.11,-86.8C291.4,-75.05 297.17,-59.24 302.05,-45.84\"/>\n",
       "<polygon fill=\"#ff0000\" stroke=\"#ff0000\" points=\"305.44,-46.77 305.58,-36.18 298.86,-44.37 305.44,-46.77\"/>\n",
       "<text text-anchor=\"middle\" x=\"307.84\" y=\"-57.8\" font-family=\"Times,serif\" font-size=\"14.00\">no</text>\n",
       "</g>\n",
       "<!-- 41 -->\n",
       "<g id=\"node14\" class=\"node\">\n",
       "<title>41</title>\n",
       "<ellipse fill=\"none\" stroke=\"black\" cx=\"587.84\" cy=\"-18\" rx=\"96.68\" ry=\"18\"/>\n",
       "<text text-anchor=\"middle\" x=\"587.84\" y=\"-14.3\" font-family=\"Times,serif\" font-size=\"14.00\">leaf=0.595973194</text>\n",
       "</g>\n",
       "<!-- 26&#45;&gt;41 -->\n",
       "<g id=\"edge13\" class=\"edge\">\n",
       "<title>26&#45;&gt;41</title>\n",
       "<path fill=\"none\" stroke=\"#0000ff\" d=\"M611.77,-86.8C607.62,-75.05 602.04,-59.24 597.32,-45.84\"/>\n",
       "<polygon fill=\"#0000ff\" stroke=\"#0000ff\" points=\"600.53,-44.44 593.9,-36.18 593.93,-46.77 600.53,-44.44\"/>\n",
       "<text text-anchor=\"middle\" x=\"649.34\" y=\"-57.8\" font-family=\"Times,serif\" font-size=\"14.00\">yes, missing</text>\n",
       "</g>\n",
       "<!-- 42 -->\n",
       "<g id=\"node15\" class=\"node\">\n",
       "<title>42</title>\n",
       "<ellipse fill=\"none\" stroke=\"black\" cx=\"802.84\" cy=\"-18\" rx=\"100.18\" ry=\"18\"/>\n",
       "<text text-anchor=\"middle\" x=\"802.84\" y=\"-14.3\" font-family=\"Times,serif\" font-size=\"14.00\">leaf=&#45;0.440000027</text>\n",
       "</g>\n",
       "<!-- 26&#45;&gt;42 -->\n",
       "<g id=\"edge14\" class=\"edge\">\n",
       "<title>26&#45;&gt;42</title>\n",
       "<path fill=\"none\" stroke=\"#ff0000\" d=\"M656.61,-87.34C669.74,-81.61 684.47,-75.11 697.84,-69 718.68,-59.49 741.66,-48.59 760.8,-39.4\"/>\n",
       "<polygon fill=\"#ff0000\" stroke=\"#ff0000\" points=\"762.37,-42.53 769.87,-35.04 759.34,-36.22 762.37,-42.53\"/>\n",
       "<text text-anchor=\"middle\" x=\"738.84\" y=\"-57.8\" font-family=\"Times,serif\" font-size=\"14.00\">no</text>\n",
       "</g>\n",
       "<!-- 27 -->\n",
       "<g id=\"node18\" class=\"node\">\n",
       "<title>27</title>\n",
       "<ellipse fill=\"none\" stroke=\"black\" cx=\"1005.84\" cy=\"-105\" rx=\"100.18\" ry=\"18\"/>\n",
       "<text text-anchor=\"middle\" x=\"1005.84\" y=\"-101.3\" font-family=\"Times,serif\" font-size=\"14.00\">leaf=&#45;0.598019361</text>\n",
       "</g>\n",
       "<!-- 18&#45;&gt;27 -->\n",
       "<g id=\"edge17\" class=\"edge\">\n",
       "<title>18&#45;&gt;27</title>\n",
       "<path fill=\"none\" stroke=\"#0000ff\" d=\"M1179.77,-174.63C1164.28,-168.81 1146.76,-162.18 1130.84,-156 1105.27,-146.08 1076.89,-134.75 1053.63,-125.38\"/>\n",
       "<polygon fill=\"#0000ff\" stroke=\"#0000ff\" points=\"1054.92,-122.13 1044.33,-121.63 1052.3,-128.62 1054.92,-122.13\"/>\n",
       "<text text-anchor=\"middle\" x=\"1175.34\" y=\"-144.8\" font-family=\"Times,serif\" font-size=\"14.00\">yes, missing</text>\n",
       "</g>\n",
       "<!-- 28 -->\n",
       "<g id=\"node19\" class=\"node\">\n",
       "<title>28</title>\n",
       "<ellipse fill=\"none\" stroke=\"black\" cx=\"1223.84\" cy=\"-105\" rx=\"100.18\" ry=\"18\"/>\n",
       "<text text-anchor=\"middle\" x=\"1223.84\" y=\"-101.3\" font-family=\"Times,serif\" font-size=\"14.00\">leaf=&#45;0.150000006</text>\n",
       "</g>\n",
       "<!-- 18&#45;&gt;28 -->\n",
       "<g id=\"edge18\" class=\"edge\">\n",
       "<title>18&#45;&gt;28</title>\n",
       "<path fill=\"none\" stroke=\"#ff0000\" d=\"M1223.84,-173.8C1223.84,-162.16 1223.84,-146.55 1223.84,-133.24\"/>\n",
       "<polygon fill=\"#ff0000\" stroke=\"#ff0000\" points=\"1227.34,-133.18 1223.84,-123.18 1220.34,-133.18 1227.34,-133.18\"/>\n",
       "<text text-anchor=\"middle\" x=\"1232.84\" y=\"-144.8\" font-family=\"Times,serif\" font-size=\"14.00\">no</text>\n",
       "</g>\n",
       "<!-- 19 -->\n",
       "<g id=\"node22\" class=\"node\">\n",
       "<title>19</title>\n",
       "<ellipse fill=\"none\" stroke=\"black\" cx=\"1625.84\" cy=\"-192\" rx=\"204.96\" ry=\"18\"/>\n",
       "<text text-anchor=\"middle\" x=\"1625.84\" y=\"-188.3\" font-family=\"Times,serif\" font-size=\"14.00\">old_balance_orig_cus_scaled&lt;0.21975562</text>\n",
       "</g>\n",
       "<!-- 9&#45;&gt;19 -->\n",
       "<g id=\"edge21\" class=\"edge\">\n",
       "<title>9&#45;&gt;19</title>\n",
       "<path fill=\"none\" stroke=\"#0000ff\" d=\"M1669.71,-260.8C1661.88,-248.7 1651.27,-232.3 1642.45,-218.67\"/>\n",
       "<polygon fill=\"#0000ff\" stroke=\"#0000ff\" points=\"1645.33,-216.67 1636.95,-210.18 1639.45,-220.47 1645.33,-216.67\"/>\n",
       "<text text-anchor=\"middle\" x=\"1701.34\" y=\"-231.8\" font-family=\"Times,serif\" font-size=\"14.00\">yes, missing</text>\n",
       "</g>\n",
       "<!-- 20 -->\n",
       "<g id=\"node23\" class=\"node\">\n",
       "<title>20</title>\n",
       "<ellipse fill=\"none\" stroke=\"black\" cx=\"2033.84\" cy=\"-192\" rx=\"176.27\" ry=\"18\"/>\n",
       "<text text-anchor=\"middle\" x=\"2033.84\" y=\"-188.3\" font-family=\"Times,serif\" font-size=\"14.00\">new_balance_orig_cus&lt;11112.1396</text>\n",
       "</g>\n",
       "<!-- 9&#45;&gt;20 -->\n",
       "<g id=\"edge22\" class=\"edge\">\n",
       "<title>9&#45;&gt;20</title>\n",
       "<path fill=\"none\" stroke=\"#ff0000\" d=\"M1746,-262.31C1806.13,-247.83 1895.41,-226.33 1958.56,-211.13\"/>\n",
       "<polygon fill=\"#ff0000\" stroke=\"#ff0000\" points=\"1959.56,-214.49 1968.47,-208.74 1957.93,-207.68 1959.56,-214.49\"/>\n",
       "<text text-anchor=\"middle\" x=\"1887.84\" y=\"-231.8\" font-family=\"Times,serif\" font-size=\"14.00\">no</text>\n",
       "</g>\n",
       "<!-- 29 -->\n",
       "<g id=\"node24\" class=\"node\">\n",
       "<title>29</title>\n",
       "<ellipse fill=\"none\" stroke=\"black\" cx=\"1409.84\" cy=\"-105\" rx=\"68.49\" ry=\"18\"/>\n",
       "<text text-anchor=\"middle\" x=\"1409.84\" y=\"-101.3\" font-family=\"Times,serif\" font-size=\"14.00\">amount&lt;0.5</text>\n",
       "</g>\n",
       "<!-- 19&#45;&gt;29 -->\n",
       "<g id=\"edge23\" class=\"edge\">\n",
       "<title>19&#45;&gt;29</title>\n",
       "<path fill=\"none\" stroke=\"#0000ff\" d=\"M1580.81,-174.32C1565.55,-168.6 1548.42,-162.1 1532.84,-156 1506.71,-145.77 1477.62,-133.97 1454.29,-124.4\"/>\n",
       "<polygon fill=\"#0000ff\" stroke=\"#0000ff\" points=\"1455.58,-121.14 1445,-120.58 1452.92,-127.62 1455.58,-121.14\"/>\n",
       "<text text-anchor=\"middle\" x=\"1577.34\" y=\"-144.8\" font-family=\"Times,serif\" font-size=\"14.00\">yes, missing</text>\n",
       "</g>\n",
       "<!-- 30 -->\n",
       "<g id=\"node25\" class=\"node\">\n",
       "<title>30</title>\n",
       "<ellipse fill=\"none\" stroke=\"black\" cx=\"1625.84\" cy=\"-105\" rx=\"109.38\" ry=\"18\"/>\n",
       "<text text-anchor=\"middle\" x=\"1625.84\" y=\"-101.3\" font-family=\"Times,serif\" font-size=\"14.00\">amount&lt;553302.625</text>\n",
       "</g>\n",
       "<!-- 19&#45;&gt;30 -->\n",
       "<g id=\"edge24\" class=\"edge\">\n",
       "<title>19&#45;&gt;30</title>\n",
       "<path fill=\"none\" stroke=\"#ff0000\" d=\"M1625.84,-173.8C1625.84,-162.16 1625.84,-146.55 1625.84,-133.24\"/>\n",
       "<polygon fill=\"#ff0000\" stroke=\"#ff0000\" points=\"1629.34,-133.18 1625.84,-123.18 1622.34,-133.18 1629.34,-133.18\"/>\n",
       "<text text-anchor=\"middle\" x=\"1634.84\" y=\"-144.8\" font-family=\"Times,serif\" font-size=\"14.00\">no</text>\n",
       "</g>\n",
       "<!-- 31 -->\n",
       "<g id=\"node30\" class=\"node\">\n",
       "<title>31</title>\n",
       "<ellipse fill=\"none\" stroke=\"black\" cx=\"2033.84\" cy=\"-105\" rx=\"53.89\" ry=\"18\"/>\n",
       "<text text-anchor=\"middle\" x=\"2033.84\" y=\"-101.3\" font-family=\"Times,serif\" font-size=\"14.00\">type&lt;0.5</text>\n",
       "</g>\n",
       "<!-- 20&#45;&gt;31 -->\n",
       "<g id=\"edge29\" class=\"edge\">\n",
       "<title>20&#45;&gt;31</title>\n",
       "<path fill=\"none\" stroke=\"#0000ff\" d=\"M2033.84,-173.8C2033.84,-162.16 2033.84,-146.55 2033.84,-133.24\"/>\n",
       "<polygon fill=\"#0000ff\" stroke=\"#0000ff\" points=\"2037.34,-133.18 2033.84,-123.18 2030.34,-133.18 2037.34,-133.18\"/>\n",
       "<text text-anchor=\"middle\" x=\"2078.34\" y=\"-144.8\" font-family=\"Times,serif\" font-size=\"14.00\">yes, missing</text>\n",
       "</g>\n",
       "<!-- 32 -->\n",
       "<g id=\"node31\" class=\"node\">\n",
       "<title>32</title>\n",
       "<ellipse fill=\"none\" stroke=\"black\" cx=\"2199.84\" cy=\"-105\" rx=\"94.48\" ry=\"18\"/>\n",
       "<text text-anchor=\"middle\" x=\"2199.84\" y=\"-101.3\" font-family=\"Times,serif\" font-size=\"14.00\">leaf=&#45;0.59714514</text>\n",
       "</g>\n",
       "<!-- 20&#45;&gt;32 -->\n",
       "<g id=\"edge30\" class=\"edge\">\n",
       "<title>20&#45;&gt;32</title>\n",
       "<path fill=\"none\" stroke=\"#ff0000\" d=\"M2084.03,-174.63C2098.18,-169.34 2113.38,-163.01 2126.84,-156 2141.67,-148.27 2157.09,-138.08 2169.92,-128.91\"/>\n",
       "<polygon fill=\"#ff0000\" stroke=\"#ff0000\" points=\"2172.32,-131.48 2178.34,-122.76 2168.2,-125.83 2172.32,-131.48\"/>\n",
       "<text text-anchor=\"middle\" x=\"2161.84\" y=\"-144.8\" font-family=\"Times,serif\" font-size=\"14.00\">no</text>\n",
       "</g>\n",
       "<!-- 43 -->\n",
       "<g id=\"node26\" class=\"node\">\n",
       "<title>43</title>\n",
       "<ellipse fill=\"none\" stroke=\"black\" cx=\"1174.84\" cy=\"-18\" rx=\"96.68\" ry=\"18\"/>\n",
       "<text text-anchor=\"middle\" x=\"1174.84\" y=\"-14.3\" font-family=\"Times,serif\" font-size=\"14.00\">leaf=0.360000014</text>\n",
       "</g>\n",
       "<!-- 29&#45;&gt;43 -->\n",
       "<g id=\"edge25\" class=\"edge\">\n",
       "<title>29&#45;&gt;43</title>\n",
       "<path fill=\"none\" stroke=\"#0000ff\" d=\"M1368.71,-90.58C1349.54,-84.22 1326.46,-76.4 1305.84,-69 1278.53,-59.2 1248.26,-47.69 1223.7,-38.18\"/>\n",
       "<polygon fill=\"#0000ff\" stroke=\"#0000ff\" points=\"1224.83,-34.87 1214.24,-34.51 1222.3,-41.39 1224.83,-34.87\"/>\n",
       "<text text-anchor=\"middle\" x=\"1350.34\" y=\"-57.8\" font-family=\"Times,serif\" font-size=\"14.00\">yes, missing</text>\n",
       "</g>\n",
       "<!-- 44 -->\n",
       "<g id=\"node27\" class=\"node\">\n",
       "<title>44</title>\n",
       "<ellipse fill=\"none\" stroke=\"black\" cx=\"1389.84\" cy=\"-18\" rx=\"100.18\" ry=\"18\"/>\n",
       "<text text-anchor=\"middle\" x=\"1389.84\" y=\"-14.3\" font-family=\"Times,serif\" font-size=\"14.00\">leaf=&#45;0.599387288</text>\n",
       "</g>\n",
       "<!-- 29&#45;&gt;44 -->\n",
       "<g id=\"edge26\" class=\"edge\">\n",
       "<title>29&#45;&gt;44</title>\n",
       "<path fill=\"none\" stroke=\"#ff0000\" d=\"M1405.79,-86.8C1403.06,-75.16 1399.38,-59.55 1396.25,-46.24\"/>\n",
       "<polygon fill=\"#ff0000\" stroke=\"#ff0000\" points=\"1399.58,-45.11 1393.88,-36.18 1392.77,-46.71 1399.58,-45.11\"/>\n",
       "<text text-anchor=\"middle\" x=\"1410.84\" y=\"-57.8\" font-family=\"Times,serif\" font-size=\"14.00\">no</text>\n",
       "</g>\n",
       "<!-- 45 -->\n",
       "<g id=\"node28\" class=\"node\">\n",
       "<title>45</title>\n",
       "<ellipse fill=\"none\" stroke=\"black\" cx=\"1607.84\" cy=\"-18\" rx=\"100.18\" ry=\"18\"/>\n",
       "<text text-anchor=\"middle\" x=\"1607.84\" y=\"-14.3\" font-family=\"Times,serif\" font-size=\"14.00\">leaf=&#45;0.591717601</text>\n",
       "</g>\n",
       "<!-- 30&#45;&gt;45 -->\n",
       "<g id=\"edge27\" class=\"edge\">\n",
       "<title>30&#45;&gt;45</title>\n",
       "<path fill=\"none\" stroke=\"#0000ff\" d=\"M1622.2,-86.8C1619.73,-75.16 1616.43,-59.55 1613.61,-46.24\"/>\n",
       "<polygon fill=\"#0000ff\" stroke=\"#0000ff\" points=\"1616.97,-45.23 1611.48,-36.18 1610.13,-46.68 1616.97,-45.23\"/>\n",
       "<text text-anchor=\"middle\" x=\"1663.34\" y=\"-57.8\" font-family=\"Times,serif\" font-size=\"14.00\">yes, missing</text>\n",
       "</g>\n",
       "<!-- 46 -->\n",
       "<g id=\"node29\" class=\"node\">\n",
       "<title>46</title>\n",
       "<ellipse fill=\"none\" stroke=\"black\" cx=\"1825.84\" cy=\"-18\" rx=\"100.18\" ry=\"18\"/>\n",
       "<text text-anchor=\"middle\" x=\"1825.84\" y=\"-14.3\" font-family=\"Times,serif\" font-size=\"14.00\">leaf=&#45;0.235490605</text>\n",
       "</g>\n",
       "<!-- 30&#45;&gt;46 -->\n",
       "<g id=\"edge28\" class=\"edge\">\n",
       "<title>30&#45;&gt;46</title>\n",
       "<path fill=\"none\" stroke=\"#ff0000\" d=\"M1665.32,-88.19C1679.97,-82.26 1696.7,-75.4 1711.84,-69 1734.71,-59.33 1760.02,-48.27 1780.97,-39.01\"/>\n",
       "<polygon fill=\"#ff0000\" stroke=\"#ff0000\" points=\"1782.53,-42.15 1790.26,-34.9 1779.7,-35.75 1782.53,-42.15\"/>\n",
       "<text text-anchor=\"middle\" x=\"1755.84\" y=\"-57.8\" font-family=\"Times,serif\" font-size=\"14.00\">no</text>\n",
       "</g>\n",
       "<!-- 47 -->\n",
       "<g id=\"node32\" class=\"node\">\n",
       "<title>47</title>\n",
       "<ellipse fill=\"none\" stroke=\"black\" cx=\"2043.84\" cy=\"-18\" rx=\"100.18\" ry=\"18\"/>\n",
       "<text text-anchor=\"middle\" x=\"2043.84\" y=\"-14.3\" font-family=\"Times,serif\" font-size=\"14.00\">leaf=&#45;0.527999997</text>\n",
       "</g>\n",
       "<!-- 31&#45;&gt;47 -->\n",
       "<g id=\"edge31\" class=\"edge\">\n",
       "<title>31&#45;&gt;47</title>\n",
       "<path fill=\"none\" stroke=\"#0000ff\" d=\"M2035.87,-86.8C2037.23,-75.16 2039.07,-59.55 2040.64,-46.24\"/>\n",
       "<polygon fill=\"#0000ff\" stroke=\"#0000ff\" points=\"2044.13,-46.52 2041.82,-36.18 2037.18,-45.7 2044.13,-46.52\"/>\n",
       "<text text-anchor=\"middle\" x=\"2084.34\" y=\"-57.8\" font-family=\"Times,serif\" font-size=\"14.00\">yes, missing</text>\n",
       "</g>\n",
       "<!-- 48 -->\n",
       "<g id=\"node33\" class=\"node\">\n",
       "<title>48</title>\n",
       "<ellipse fill=\"none\" stroke=\"black\" cx=\"2258.84\" cy=\"-18\" rx=\"96.68\" ry=\"18\"/>\n",
       "<text text-anchor=\"middle\" x=\"2258.84\" y=\"-14.3\" font-family=\"Times,serif\" font-size=\"14.00\">leaf=0.589041114</text>\n",
       "</g>\n",
       "<!-- 31&#45;&gt;48 -->\n",
       "<g id=\"edge32\" class=\"edge\">\n",
       "<title>31&#45;&gt;48</title>\n",
       "<path fill=\"none\" stroke=\"#ff0000\" d=\"M2070.17,-91.53C2088.94,-84.99 2112.19,-76.75 2132.84,-69 2158.89,-59.23 2187.75,-47.82 2211.27,-38.37\"/>\n",
       "<polygon fill=\"#ff0000\" stroke=\"#ff0000\" points=\"2212.7,-41.57 2220.66,-34.59 2210.08,-35.08 2212.7,-41.57\"/>\n",
       "<text text-anchor=\"middle\" x=\"2180.84\" y=\"-57.8\" font-family=\"Times,serif\" font-size=\"14.00\">no</text>\n",
       "</g>\n",
       "<!-- 11 -->\n",
       "<g id=\"node36\" class=\"node\">\n",
       "<title>11</title>\n",
       "<ellipse fill=\"none\" stroke=\"black\" cx=\"2243.84\" cy=\"-279\" rx=\"100.18\" ry=\"18\"/>\n",
       "<text text-anchor=\"middle\" x=\"2243.84\" y=\"-275.3\" font-family=\"Times,serif\" font-size=\"14.00\">leaf=&#45;0.597932816</text>\n",
       "</g>\n",
       "<!-- 5&#45;&gt;11 -->\n",
       "<g id=\"edge35\" class=\"edge\">\n",
       "<title>5&#45;&gt;11</title>\n",
       "<path fill=\"none\" stroke=\"#0000ff\" d=\"M2292.79,-348.21C2283.99,-335.95 2271.91,-319.11 2261.95,-305.24\"/>\n",
       "<polygon fill=\"#0000ff\" stroke=\"#0000ff\" points=\"2264.75,-303.13 2256.08,-297.05 2259.06,-307.21 2264.75,-303.13\"/>\n",
       "<text text-anchor=\"middle\" x=\"2323.34\" y=\"-318.8\" font-family=\"Times,serif\" font-size=\"14.00\">yes, missing</text>\n",
       "</g>\n",
       "<!-- 12 -->\n",
       "<g id=\"node37\" class=\"node\">\n",
       "<title>12</title>\n",
       "<ellipse fill=\"none\" stroke=\"black\" cx=\"2461.84\" cy=\"-279\" rx=\"100.18\" ry=\"18\"/>\n",
       "<text text-anchor=\"middle\" x=\"2461.84\" y=\"-275.3\" font-family=\"Times,serif\" font-size=\"14.00\">leaf=&#45;0.150000006</text>\n",
       "</g>\n",
       "<!-- 5&#45;&gt;12 -->\n",
       "<g id=\"edge36\" class=\"edge\">\n",
       "<title>5&#45;&gt;12</title>\n",
       "<path fill=\"none\" stroke=\"#ff0000\" d=\"M2333.29,-350.34C2345.23,-344.14 2359.25,-336.79 2371.84,-330 2388.94,-320.79 2407.74,-310.38 2423.72,-301.46\"/>\n",
       "<polygon fill=\"#ff0000\" stroke=\"#ff0000\" points=\"2425.74,-304.34 2432.76,-296.4 2422.33,-298.23 2425.74,-304.34\"/>\n",
       "<text text-anchor=\"middle\" x=\"2408.84\" y=\"-318.8\" font-family=\"Times,serif\" font-size=\"14.00\">no</text>\n",
       "</g>\n",
       "<!-- 13 -->\n",
       "<g id=\"node38\" class=\"node\">\n",
       "<title>13</title>\n",
       "<ellipse fill=\"none\" stroke=\"black\" cx=\"2834.84\" cy=\"-279\" rx=\"148.67\" ry=\"18\"/>\n",
       "<text text-anchor=\"middle\" x=\"2834.84\" y=\"-275.3\" font-family=\"Times,serif\" font-size=\"14.00\">amount_scaled&lt;0.250795603</text>\n",
       "</g>\n",
       "<!-- 6&#45;&gt;13 -->\n",
       "<g id=\"edge37\" class=\"edge\">\n",
       "<title>6&#45;&gt;13</title>\n",
       "<path fill=\"none\" stroke=\"#0000ff\" d=\"M2834.84,-347.8C2834.84,-336.16 2834.84,-320.55 2834.84,-307.24\"/>\n",
       "<polygon fill=\"#0000ff\" stroke=\"#0000ff\" points=\"2838.34,-307.18 2834.84,-297.18 2831.34,-307.18 2838.34,-307.18\"/>\n",
       "<text text-anchor=\"middle\" x=\"2879.34\" y=\"-318.8\" font-family=\"Times,serif\" font-size=\"14.00\">yes, missing</text>\n",
       "</g>\n",
       "<!-- 14 -->\n",
       "<g id=\"node39\" class=\"node\">\n",
       "<title>14</title>\n",
       "<ellipse fill=\"none\" stroke=\"black\" cx=\"3219.84\" cy=\"-279\" rx=\"148.67\" ry=\"18\"/>\n",
       "<text text-anchor=\"middle\" x=\"3219.84\" y=\"-275.3\" font-family=\"Times,serif\" font-size=\"14.00\">amount_scaled&lt;0.109627008</text>\n",
       "</g>\n",
       "<!-- 6&#45;&gt;14 -->\n",
       "<g id=\"edge38\" class=\"edge\">\n",
       "<title>6&#45;&gt;14</title>\n",
       "<path fill=\"none\" stroke=\"#ff0000\" d=\"M2881.28,-354.75C2945.92,-340.48 3063.84,-314.44 3142.04,-297.18\"/>\n",
       "<polygon fill=\"#ff0000\" stroke=\"#ff0000\" points=\"3142.83,-300.59 3151.84,-295.01 3141.32,-293.75 3142.83,-300.59\"/>\n",
       "<text text-anchor=\"middle\" x=\"3059.84\" y=\"-318.8\" font-family=\"Times,serif\" font-size=\"14.00\">no</text>\n",
       "</g>\n",
       "<!-- 21 -->\n",
       "<g id=\"node40\" class=\"node\">\n",
       "<title>21</title>\n",
       "<ellipse fill=\"none\" stroke=\"black\" cx=\"2600.84\" cy=\"-192\" rx=\"94.78\" ry=\"18\"/>\n",
       "<text text-anchor=\"middle\" x=\"2600.84\" y=\"-188.3\" font-family=\"Times,serif\" font-size=\"14.00\">amount&lt;2915414</text>\n",
       "</g>\n",
       "<!-- 13&#45;&gt;21 -->\n",
       "<g id=\"edge39\" class=\"edge\">\n",
       "<title>13&#45;&gt;21</title>\n",
       "<path fill=\"none\" stroke=\"#0000ff\" d=\"M2790.28,-261.81C2750.99,-247.54 2693.75,-226.75 2652.48,-211.76\"/>\n",
       "<polygon fill=\"#0000ff\" stroke=\"#0000ff\" points=\"2653.47,-208.39 2642.88,-208.27 2651.08,-214.97 2653.47,-208.39\"/>\n",
       "<text text-anchor=\"middle\" x=\"2777.34\" y=\"-231.8\" font-family=\"Times,serif\" font-size=\"14.00\">yes, missing</text>\n",
       "</g>\n",
       "<!-- 22 -->\n",
       "<g id=\"node41\" class=\"node\">\n",
       "<title>22</title>\n",
       "<ellipse fill=\"none\" stroke=\"black\" cx=\"2870.84\" cy=\"-192\" rx=\"156.77\" ry=\"18\"/>\n",
       "<text text-anchor=\"middle\" x=\"2870.84\" y=\"-188.3\" font-family=\"Times,serif\" font-size=\"14.00\">old_balance_orig_cus&lt;2453222</text>\n",
       "</g>\n",
       "<!-- 13&#45;&gt;22 -->\n",
       "<g id=\"edge40\" class=\"edge\">\n",
       "<title>13&#45;&gt;22</title>\n",
       "<path fill=\"none\" stroke=\"#ff0000\" d=\"M2842.13,-260.8C2847.15,-248.93 2853.93,-232.93 2859.64,-219.45\"/>\n",
       "<polygon fill=\"#ff0000\" stroke=\"#ff0000\" points=\"2862.89,-220.75 2863.57,-210.18 2856.44,-218.02 2862.89,-220.75\"/>\n",
       "<text text-anchor=\"middle\" x=\"2864.84\" y=\"-231.8\" font-family=\"Times,serif\" font-size=\"14.00\">no</text>\n",
       "</g>\n",
       "<!-- 23 -->\n",
       "<g id=\"node46\" class=\"node\">\n",
       "<title>23</title>\n",
       "<ellipse fill=\"none\" stroke=\"black\" cx=\"3219.84\" cy=\"-192\" rx=\"55.79\" ry=\"18\"/>\n",
       "<text text-anchor=\"middle\" x=\"3219.84\" y=\"-188.3\" font-family=\"Times,serif\" font-size=\"14.00\">step&lt;319</text>\n",
       "</g>\n",
       "<!-- 14&#45;&gt;23 -->\n",
       "<g id=\"edge45\" class=\"edge\">\n",
       "<title>14&#45;&gt;23</title>\n",
       "<path fill=\"none\" stroke=\"#0000ff\" d=\"M3219.84,-260.8C3219.84,-249.16 3219.84,-233.55 3219.84,-220.24\"/>\n",
       "<polygon fill=\"#0000ff\" stroke=\"#0000ff\" points=\"3223.34,-220.18 3219.84,-210.18 3216.34,-220.18 3223.34,-220.18\"/>\n",
       "<text text-anchor=\"middle\" x=\"3264.34\" y=\"-231.8\" font-family=\"Times,serif\" font-size=\"14.00\">yes, missing</text>\n",
       "</g>\n",
       "<!-- 24 -->\n",
       "<g id=\"node47\" class=\"node\">\n",
       "<title>24</title>\n",
       "<ellipse fill=\"none\" stroke=\"black\" cx=\"3390.84\" cy=\"-192\" rx=\"96.68\" ry=\"18\"/>\n",
       "<text text-anchor=\"middle\" x=\"3390.84\" y=\"-188.3\" font-family=\"Times,serif\" font-size=\"14.00\">leaf=0.596460164</text>\n",
       "</g>\n",
       "<!-- 14&#45;&gt;24 -->\n",
       "<g id=\"edge46\" class=\"edge\">\n",
       "<title>14&#45;&gt;24</title>\n",
       "<path fill=\"none\" stroke=\"#ff0000\" d=\"M3268.45,-261.9C3283,-256.5 3298.81,-250.04 3312.84,-243 3328.65,-235.07 3345.26,-224.73 3359.07,-215.52\"/>\n",
       "<polygon fill=\"#ff0000\" stroke=\"#ff0000\" points=\"3361.4,-218.17 3367.71,-209.66 3357.47,-212.38 3361.4,-218.17\"/>\n",
       "<text text-anchor=\"middle\" x=\"3348.84\" y=\"-231.8\" font-family=\"Times,serif\" font-size=\"14.00\">no</text>\n",
       "</g>\n",
       "<!-- 33 -->\n",
       "<g id=\"node42\" class=\"node\">\n",
       "<title>33</title>\n",
       "<ellipse fill=\"none\" stroke=\"black\" cx=\"2411.84\" cy=\"-105\" rx=\"100.18\" ry=\"18\"/>\n",
       "<text text-anchor=\"middle\" x=\"2411.84\" y=\"-101.3\" font-family=\"Times,serif\" font-size=\"14.00\">leaf=&#45;0.540000021</text>\n",
       "</g>\n",
       "<!-- 21&#45;&gt;33 -->\n",
       "<g id=\"edge41\" class=\"edge\">\n",
       "<title>21&#45;&gt;33</title>\n",
       "<path fill=\"none\" stroke=\"#0000ff\" d=\"M2564.54,-175.28C2550.82,-169.3 2535.09,-162.38 2520.84,-156 2499.19,-146.3 2475.22,-135.33 2455.28,-126.14\"/>\n",
       "<polygon fill=\"#0000ff\" stroke=\"#0000ff\" points=\"2456.68,-122.93 2446.14,-121.92 2453.75,-129.29 2456.68,-122.93\"/>\n",
       "<text text-anchor=\"middle\" x=\"2565.34\" y=\"-144.8\" font-family=\"Times,serif\" font-size=\"14.00\">yes, missing</text>\n",
       "</g>\n",
       "<!-- 34 -->\n",
       "<g id=\"node43\" class=\"node\">\n",
       "<title>34</title>\n",
       "<ellipse fill=\"none\" stroke=\"black\" cx=\"2629.84\" cy=\"-105\" rx=\"100.18\" ry=\"18\"/>\n",
       "<text text-anchor=\"middle\" x=\"2629.84\" y=\"-101.3\" font-family=\"Times,serif\" font-size=\"14.00\">leaf=&#45;0.120000005</text>\n",
       "</g>\n",
       "<!-- 21&#45;&gt;34 -->\n",
       "<g id=\"edge42\" class=\"edge\">\n",
       "<title>21&#45;&gt;34</title>\n",
       "<path fill=\"none\" stroke=\"#ff0000\" d=\"M2606.71,-173.8C2610.72,-162.05 2616.11,-146.24 2620.68,-132.84\"/>\n",
       "<polygon fill=\"#ff0000\" stroke=\"#ff0000\" points=\"2624.06,-133.77 2623.98,-123.18 2617.44,-131.51 2624.06,-133.77\"/>\n",
       "<text text-anchor=\"middle\" x=\"2626.84\" y=\"-144.8\" font-family=\"Times,serif\" font-size=\"14.00\">no</text>\n",
       "</g>\n",
       "<!-- 35 -->\n",
       "<g id=\"node44\" class=\"node\">\n",
       "<title>35</title>\n",
       "<ellipse fill=\"none\" stroke=\"black\" cx=\"2841.84\" cy=\"-105\" rx=\"94.48\" ry=\"18\"/>\n",
       "<text text-anchor=\"middle\" x=\"2841.84\" y=\"-101.3\" font-family=\"Times,serif\" font-size=\"14.00\">leaf=&#45;0.24000001</text>\n",
       "</g>\n",
       "<!-- 22&#45;&gt;35 -->\n",
       "<g id=\"edge43\" class=\"edge\">\n",
       "<title>22&#45;&gt;35</title>\n",
       "<path fill=\"none\" stroke=\"#0000ff\" d=\"M2864.97,-173.8C2860.96,-162.05 2855.57,-146.24 2851,-132.84\"/>\n",
       "<polygon fill=\"#0000ff\" stroke=\"#0000ff\" points=\"2854.24,-131.51 2847.7,-123.18 2847.62,-133.77 2854.24,-131.51\"/>\n",
       "<text text-anchor=\"middle\" x=\"2903.34\" y=\"-144.8\" font-family=\"Times,serif\" font-size=\"14.00\">yes, missing</text>\n",
       "</g>\n",
       "<!-- 36 -->\n",
       "<g id=\"node45\" class=\"node\">\n",
       "<title>36</title>\n",
       "<ellipse fill=\"none\" stroke=\"black\" cx=\"3050.84\" cy=\"-105\" rx=\"96.68\" ry=\"18\"/>\n",
       "<text text-anchor=\"middle\" x=\"3050.84\" y=\"-101.3\" font-family=\"Times,serif\" font-size=\"14.00\">leaf=0.420000017</text>\n",
       "</g>\n",
       "<!-- 22&#45;&gt;36 -->\n",
       "<g id=\"edge44\" class=\"edge\">\n",
       "<title>22&#45;&gt;36</title>\n",
       "<path fill=\"none\" stroke=\"#ff0000\" d=\"M2910.19,-174.56C2923.49,-168.85 2938.38,-162.3 2951.84,-156 2971.44,-146.82 2992.92,-136.07 3010.84,-126.89\"/>\n",
       "<polygon fill=\"#ff0000\" stroke=\"#ff0000\" points=\"3012.57,-129.93 3019.86,-122.24 3009.37,-123.71 3012.57,-129.93\"/>\n",
       "<text text-anchor=\"middle\" x=\"2991.84\" y=\"-144.8\" font-family=\"Times,serif\" font-size=\"14.00\">no</text>\n",
       "</g>\n",
       "<!-- 37 -->\n",
       "<g id=\"node48\" class=\"node\">\n",
       "<title>37</title>\n",
       "<ellipse fill=\"none\" stroke=\"black\" cx=\"3219.84\" cy=\"-105\" rx=\"53.89\" ry=\"18\"/>\n",
       "<text text-anchor=\"middle\" x=\"3219.84\" y=\"-101.3\" font-family=\"Times,serif\" font-size=\"14.00\">type&lt;0.5</text>\n",
       "</g>\n",
       "<!-- 23&#45;&gt;37 -->\n",
       "<g id=\"edge47\" class=\"edge\">\n",
       "<title>23&#45;&gt;37</title>\n",
       "<path fill=\"none\" stroke=\"#0000ff\" d=\"M3219.84,-173.8C3219.84,-162.16 3219.84,-146.55 3219.84,-133.24\"/>\n",
       "<polygon fill=\"#0000ff\" stroke=\"#0000ff\" points=\"3223.34,-133.18 3219.84,-123.18 3216.34,-133.18 3223.34,-133.18\"/>\n",
       "<text text-anchor=\"middle\" x=\"3264.34\" y=\"-144.8\" font-family=\"Times,serif\" font-size=\"14.00\">yes, missing</text>\n",
       "</g>\n",
       "<!-- 38 -->\n",
       "<g id=\"node49\" class=\"node\">\n",
       "<title>38</title>\n",
       "<ellipse fill=\"none\" stroke=\"black\" cx=\"3341.84\" cy=\"-105\" rx=\"50.09\" ry=\"18\"/>\n",
       "<text text-anchor=\"middle\" x=\"3341.84\" y=\"-101.3\" font-family=\"Times,serif\" font-size=\"14.00\">leaf=0.5</text>\n",
       "</g>\n",
       "<!-- 23&#45;&gt;38 -->\n",
       "<g id=\"edge48\" class=\"edge\">\n",
       "<title>23&#45;&gt;38</title>\n",
       "<path fill=\"none\" stroke=\"#ff0000\" d=\"M3264.31,-181.05C3280.89,-175.7 3299.02,-167.71 3312.84,-156 3320.3,-149.69 3326.28,-140.94 3330.82,-132.53\"/>\n",
       "<polygon fill=\"#ff0000\" stroke=\"#ff0000\" points=\"3334.08,-133.84 3335.35,-123.32 3327.8,-130.75 3334.08,-133.84\"/>\n",
       "<text text-anchor=\"middle\" x=\"3334.84\" y=\"-144.8\" font-family=\"Times,serif\" font-size=\"14.00\">no</text>\n",
       "</g>\n",
       "<!-- 49 -->\n",
       "<g id=\"node50\" class=\"node\">\n",
       "<title>49</title>\n",
       "<ellipse fill=\"none\" stroke=\"black\" cx=\"3111.84\" cy=\"-18\" rx=\"100.18\" ry=\"18\"/>\n",
       "<text text-anchor=\"middle\" x=\"3111.84\" y=\"-14.3\" font-family=\"Times,serif\" font-size=\"14.00\">leaf=&#45;0.300000012</text>\n",
       "</g>\n",
       "<!-- 37&#45;&gt;49 -->\n",
       "<g id=\"edge49\" class=\"edge\">\n",
       "<title>37&#45;&gt;49</title>\n",
       "<path fill=\"none\" stroke=\"#0000ff\" d=\"M3199.2,-88.01C3191.54,-82.06 3182.78,-75.24 3174.84,-69 3163.64,-60.2 3151.37,-50.48 3140.65,-41.96\"/>\n",
       "<polygon fill=\"#0000ff\" stroke=\"#0000ff\" points=\"3142.81,-39.2 3132.8,-35.72 3138.45,-44.68 3142.81,-39.2\"/>\n",
       "<text text-anchor=\"middle\" x=\"3219.34\" y=\"-57.8\" font-family=\"Times,serif\" font-size=\"14.00\">yes, missing</text>\n",
       "</g>\n",
       "<!-- 50 -->\n",
       "<g id=\"node51\" class=\"node\">\n",
       "<title>50</title>\n",
       "<ellipse fill=\"none\" stroke=\"black\" cx=\"3326.84\" cy=\"-18\" rx=\"96.68\" ry=\"18\"/>\n",
       "<text text-anchor=\"middle\" x=\"3326.84\" y=\"-14.3\" font-family=\"Times,serif\" font-size=\"14.00\">leaf=0.360000014</text>\n",
       "</g>\n",
       "<!-- 37&#45;&gt;50 -->\n",
       "<g id=\"edge50\" class=\"edge\">\n",
       "<title>37&#45;&gt;50</title>\n",
       "<path fill=\"none\" stroke=\"#ff0000\" d=\"M3239.72,-88.21C3255.96,-75.3 3279.17,-56.87 3297.55,-42.27\"/>\n",
       "<polygon fill=\"#ff0000\" stroke=\"#ff0000\" points=\"3299.95,-44.83 3305.61,-35.87 3295.6,-39.35 3299.95,-44.83\"/>\n",
       "<text text-anchor=\"middle\" x=\"3288.84\" y=\"-57.8\" font-family=\"Times,serif\" font-size=\"14.00\">no</text>\n",
       "</g>\n",
       "</g>\n",
       "</svg>\n"
      ],
      "text/plain": [
       "<graphviz.files.Source at 0x7f6395d7fa90>"
      ]
     },
     "execution_count": 47,
     "metadata": {},
     "output_type": "execute_result"
    }
   ],
   "source": [
    "to_graphviz(model)"
   ]
  },
  {
   "cell_type": "code",
   "execution_count": null,
   "metadata": {},
   "outputs": [],
   "source": []
  },
  {
   "cell_type": "code",
   "execution_count": null,
   "metadata": {},
   "outputs": [],
   "source": []
  }
 ],
 "metadata": {
  "kernelspec": {
   "display_name": "Python 3 (ipykernel)",
   "language": "python",
   "name": "python3"
  },
  "language_info": {
   "codemirror_mode": {
    "name": "ipython",
    "version": 3
   },
   "file_extension": ".py",
   "mimetype": "text/x-python",
   "name": "python",
   "nbconvert_exporter": "python",
   "pygments_lexer": "ipython3",
   "version": "3.9.12"
  }
 },
 "nbformat": 4,
 "nbformat_minor": 4
}
